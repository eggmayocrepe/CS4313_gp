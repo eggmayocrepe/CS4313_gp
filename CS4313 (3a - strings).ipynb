{
 "cells": [
  {
   "cell_type": "markdown",
   "metadata": {},
   "source": [
    "# Python Strings\n",
    "\n",
    "A Python string, like 'Hello', stores text as *a sequence of individual characters*.  A string is simply *a piece of text*.\n",
    "\n",
    "Strings are of type ```str```.  Create a string using single, double or triple (single or double) quotation marks:\n",
    "\n",
    "* ```'a string'```   \n",
    "* ```\"a string\"```   \n",
    "* ```'''a string'''```   \n",
    "* ```\"\"\"a string\"\"\"```   "
   ]
  },
  {
   "cell_type": "code",
   "execution_count": 1,
   "metadata": {},
   "outputs": [
    {
     "name": "stdout",
     "output_type": "stream",
     "text": [
      "Singapore\n",
      "<class 'str'>\n"
     ]
    }
   ],
   "source": [
    "# you can put any number of inverted comma as long as it is consistent '' \"\"\n",
    "print (\"Singapore\")\n",
    "\n",
    "print ( type(\"Singapore\") )   # strings are of type 'str'"
   ]
  },
  {
   "cell_type": "markdown",
   "metadata": {},
   "source": [
    "Text is central to many computations -- URLs, chat messages, the underlying HTML code that makes up web pages, style sheets, data files, etc.\n",
    "\n",
    "Python strings are written between single quotes, 'Singapore'.  Alternatively, they can also be written between double quotes, \"Tokyo 2020 Olympics\".\n",
    "\n",
    "```a = 'Singapore'```  \n",
    "```b = \"Tokyo 2020 Olympics\"```\n",
    "\n",
    "Each character in a string is drawn from the Unicode character set, which includes the characters of just about every language on earth, plus many emojis.\n",
    "\n",
    "```c = \"\\u674e\\u5149\\u8000\"```   # \"Lee Kuan Yew\" in Chinese  \n",
    "```d = \"\\u0420\\u043e\\u0441\\u0441\\u0438\\u044f\"```   # \"Russia\" in Cyrillic\n",
    "\n",
    "A given string must be internally consistent.  This means that if a string starts with a single quote, it *must* end with a single quote.  If it starts with a double quote, it *must* end with a double quote.\n",
    "\n",
    "Let's start by creating (or defining) a few strings."
   ]
  },
  {
   "cell_type": "code",
   "execution_count": 1,
   "metadata": {},
   "outputs": [
    {
     "name": "stdout",
     "output_type": "stream",
     "text": [
      "\n",
      "Q\n",
      "Singapore\n",
      "  Singapore  \n",
      "Tokyo Olympics\n",
      "Wee Kim Wee School of Communication and Information (Wakawaski)\n"
     ]
    }
   ],
   "source": [
    "# using single quotes ('')\n",
    "\n",
    "a = ''   # this is called an \"empty string\" (a string with zero characters)\n",
    "b = 'Q'   # a string can have just a single character\n",
    "c = 'Singapore'\n",
    "d = '  Singapore  '\n",
    "e = 'Tokyo Olympics'\n",
    "f = 'Wee Kim Wee School of Communication and Information (Wakawaski)'\n",
    "\n",
    "print ( a )\n",
    "print ( b )\n",
    "print ( c )\n",
    "print ( d )\n",
    "print ( e )\n",
    "print ( f )"
   ]
  },
  {
   "cell_type": "code",
   "execution_count": 2,
   "metadata": {},
   "outputs": [
    {
     "name": "stdout",
     "output_type": "stream",
     "text": [
      "\n",
      "Q\n",
      "Singapore\n",
      "  Singapore  \n",
      "Tokyo Olympics\n",
      "Wee Kim Wee School of Communication and Information (Wakawaski)\n"
     ]
    }
   ],
   "source": [
    "# using double quotes (\"\")\n",
    "\n",
    "a = \"\"   # this is called an \"empty string\" (a string with zero characters)\n",
    "b = \"Q\"   # a string can have just a single character\n",
    "c = \"Singapore\"\n",
    "d = \"  Singapore  \"\n",
    "e = \"Tokyo Olympics\"\n",
    "f = \"Wee Kim Wee School of Communication and Information (Wakawaski)\"\n",
    "\n",
    "print ( a )\n",
    "print ( b )\n",
    "print ( c )\n",
    "print ( d )\n",
    "print ( e )\n",
    "print ( f )"
   ]
  },
  {
   "cell_type": "markdown",
   "metadata": {},
   "source": [
    "#### Note:\n",
    "\n",
    "I prefer double quotes.  This is because JSON (we will be using this file format later) uses double quotes exclusively."
   ]
  },
  {
   "cell_type": "markdown",
   "metadata": {},
   "source": [
    "## Using Triple Quotes\n",
    "\n",
    "For a string that spans multiple lines, use triple quotes (either triple single quotes or triple double quotes).\n",
    "\n",
    "```'''a long string'''```       (using triple single quotes)\n",
    "\n",
    "```\"\"\"a long string\"\"\"```       (using triple double quotes)\n",
    "\n",
    "Such strings are called multi-line strings.  An example of a multi-line string is given below:"
   ]
  },
  {
   "cell_type": "code",
   "execution_count": 3,
   "metadata": {},
   "outputs": [
    {
     "name": "stdout",
     "output_type": "stream",
     "text": [
      "My fellow Singaporeans, we are coming to a full year since our first Covid-19 case.\n",
      "\n",
      "It has been a year of uncertainty, full of ups and downs, filled with anxiety and trepidation. But much has changed within the last few months.\n",
      "\n",
      "In March and April, we peaked at over 1,000 cases a day. Now on most days, we have zero cases of local transmissions.\n",
      "\n",
      "When the pandemic first started, we worried if there would be enough supplies in the supermarkets. Today, supermarket shelves are full, and shopping is calm and uneventful.\n",
      "\n",
      "Parents were worried then whether their kids should go to school, but we kept the school year intact, CCAs have resumed, and graduating students have finished exams and are waiting for their results.\n",
      "\n",
      "We will not forget the two months of circuit breaker in April and May. But today, life is a lot more normal. We go to work, dine out and meet friends, though in groups no more than five.\n",
      "\n",
      "How did we bring things under control?\n",
      "\n",
      "It took a tremendous effort, and some good luck. Our measures were hard for everyone, but they worked. Singaporeans showed resilience and took them in their stride.\n",
      "\n",
      "Our economy took a big hit, but we did not let it crash. Despite the global economic dislocation, most of our workers kept their jobs.\n",
      "\n",
      "Now, our defences against Covid-19 are much stronger.\n",
      "\n",
      "We have steadily built up our testing capacities and procedures. We introduced rostered routine testing of higher risk groups. We started using antigen rapid tests to resume larger gatherings and events safely.\n",
      "\n",
      "We also beefed up our contact tracing capabilities, for example, expanding our SafeEntry and TraceTogether programmes, and distributing TraceTogether tokens.\n",
      "\n",
      "We got used to the inconvenient restrictions, and found ways to carry on with life. We looked after one another, reminding each other to adhere to safe distancing, to wear masks, to see a doctor if ill, and so on.\n",
      "\n",
      "I am very grateful that Singaporeans have complied with the spirit, and not just the letter, of the rules. We stayed united, kept up our guard, and did not allow ourselves to become complacent over time.\n",
      "\n",
      "With everyone's full support, our enhanced safeguards worked, and we could gradually ease our restrictions, and we can be proud of how far we have come.\n",
      "\n",
      "Because of your efforts, we are now ready to progress to the next phase.\n",
      "\n",
      "Phase 3 will begin in two weeks' time, on Dec 28, so we will end the year with some good news.\n",
      "\n",
      "The ministerial task force will explain the details immediately after my broadcast.\n",
      "\n",
      "We will ease capacity limits in public places like malls and attractions, and at places of worship. One significant change is to allow groups of up to eight to congregate, up from the current maximum of five.\n",
      "\n",
      "So eight people can dine out together, or visit someone's home. This will make it easier to hold family get-togethers during the festive period.\n",
      "\n",
      "Please understand that even as we enter phase 3, the battle is far from won.\n",
      "\n",
      "The Covid-19 virus has not been eradicated. There is a long way to go. Around the world, the pandemic is still raging. Many countries are seeing second, third, or even fourth waves of infection, with record numbers of daily cases. International borders remain largely closed.\n",
      "\n",
      "But trade and travel are our lifeblood, and the longer our own borders stay closed to travellers, the greater the risk of us permanently losing out as an international hub, and consequently hurting our livelihoods.\n",
      "\n",
      "Therefore, our only option is to reopen our borders in a controlled and safe manner. As we do so, we will see more imported cases. And there will be some risk of these imported cases spreading to the community.\n",
      "\n",
      "We have already had a few cases recently. An airport staff, who likely came into contact with infected passengers. A marine worker, who picked up the virus after boarding ships to do repair and resupply work.\n",
      "\n",
      "This is a calculated risk we have to accept. But the Government will take every precaution, and do our best to prevent imported cases from triggering a new outbreak.\n",
      "\n",
      "At the same time, Singaporeans must keep their guard up, because the virus is most likely still circulating silently within our community. Each of us needs to play our part.\n",
      "\n",
      "By all means make use of the higher limits and reconnect with friends and family, but please do not abandon your mindset of watchfulness and caution.\n",
      "\n",
      "This is absolutely not the time to relax, and let our guard down, or to hold a big party, imagining that the problem has disappeared.\n",
      "\n",
      "Progressing from phase 2 to phase 3 is a calibrated, careful move.\n",
      "\n",
      "We are easing the restrictions in a controlled way, so that we can keep the Covid-19 situation stable, and take more steps forward later. So it is vital that you stay cautious and vigilant, continue to cooperate with the Government, and comply with the rules and restrictions that will apply in phase 3.\n",
      "\n",
      "How long will we have to keep this up for? It may be for quite a while, possibly a year or more.\n",
      "\n",
      "One key factor is how soon Covid-19 vaccines become available to us.\n",
      "\n",
      "The Government has been working quietly behind the scenes, since early in the pandemic, to secure access to vaccines. This was not a simple exercise.\n",
      "\n",
      "More than 200 vaccine candidates were being developed, and not all would succeed. We started talking to the pharmaceutical companies early to understand the science, and identify the promising candidates and the vaccines likely to reach production sooner.\n",
      "\n",
      "We set aside more than $1 billion. We placed multiple bets to sign advance purchase agreements and make early down payments for the most promising candidates, including with Moderna, Pfizer-BioNTech, and Sinovac.\n",
      "\n",
      "We made arrangements with pharmaceutical companies to facilitate their clinical trials and drug development in Singapore, and attracted a few to establish vaccine manufacturing capabilities here.\n",
      "\n",
      "We also supported local efforts to develop a vaccine. This gave our own scientists and researchers the opportunity to do cutting-edge work. It was also insurance, in case the global supply chain was disrupted.\n",
      "\n",
      "This way, we built up a diversified portfolio of options to ensure that Singapore would be near the front of the queue for vaccines, and not last in line.\n",
      "\n",
      "Securing early access to vaccines was a whole-of-government effort. Many agencies and public officers, led by the head of the civil service, were involved in this critical mission.\n",
      "\n",
      "I commend them for their good work. They are among the legion of unsung heroes who have helped us get through this crisis.\n",
      "\n",
      "As you would have read in the news, the first vaccines are now coming into production, and I am very happy to tell you that after studying the scientific evidence and clinical trial data, the Health Sciences Authority, HSA, has approved the Pfizer-BioNTech vaccine for pandemic use.\n",
      "\n",
      "The first shipment should arrive by the end of this month, making Singapore one of the first countries to obtain this vaccine. We also expect other vaccines to arrive in Singapore in the coming months.\n",
      "\n",
      "If all goes according to plan, we will have enough vaccines for everyone in Singapore by the third quarter of 2021.\n",
      "\n",
      "The Ministry of Health has set up a committee of doctors and experts to recommend a vaccination strategy for us.\n",
      "\n",
      "The committee has proposed that our entire adult population should be vaccinated, but to make vaccinations voluntary.\n",
      "\n",
      "First priority will be given to those who are at greatest risk: healthcare workers and front-line personnel, as well as the elderly and vulnerable.\n",
      "\n",
      "Thereafter, the committee proposes to progressively vaccinate the rest of the population, and to cover everyone who wants a vaccination by the end of next year.\n",
      "\n",
      "The Government has accepted these recommendations. I have personal confidence in our experts.\n",
      "\n",
      "My Cabinet colleagues and I, including the older ones, will be getting ourselves vaccinated early. This is to show you, especially seniors like me, that we believe the vaccines are safe.\n",
      "\n",
      "We have decided to make vaccinations free for all Singaporeans, and for all long-term residents who are currently here.\n",
      "\n",
      "So I strongly encourage you to get vaccinated, too, when the vaccine is offered to you. Because when you get yourself vaccinated, you are not just protecting yourself, you are also doing your part to protect others, especially your loved ones.\n",
      "\n",
      "The more of us are vaccinated, the harder it will be for the virus to spread, and the safer we will all be as a society.\n",
      "\n",
      "Vaccines will support our recovery in more ways than one.\n",
      "\n",
      "As a global aviation hub, we play a crucial role transporting vaccines around the world.\n",
      "\n",
      "Vaccines require cold chain management. An ordinary refrigerator is not good enough. The Pfizer vaccine needs to be stored at minus 70 deg C, colder than the Arctic in winter!\n",
      "\n",
      "This requires infrastructure, high standards, skilled personnel, and good connectivity to many different countries all along the supply chain.\n",
      "\n",
      "Fortunately, Singapore has a strong ecosystem for cargo handling.\n",
      "\n",
      "Leading global logistics companies like DHL, UPS and FedEx are based here. SIA and Changi Airport's ground handling partners are certified by Iata (International Air Transport Association) to handle and transport pharmaceutical supplies.\n",
      "\n",
      "We are now gearing ourselves up to handle large volumes of vaccine shipments into Singapore and through Singapore to help win the global fight against Covid-19.\n",
      "\n",
      "We did not get here overnight. We have always planned ahead, systematically creating opportunities for ourselves. It took us years of investment and planning, building a business-friendly climate and expanding our air links around the world.\n",
      "\n",
      "These long-term investments are now paying dividends.\n",
      "\n",
      "During this immediate crisis, we have reacted quickly and comprehensively, marshalled resources to solve our problems, and stayed resilient.\n",
      "\n",
      "Our situation is now stable, but only because everyone has worked so hard, and sacrificed so much.\n",
      "\n",
      "Now that vaccines are becoming available, we can see light at the end of the tunnel.\n",
      "\n",
      "As vaccinations become widespread not only in Singapore, but also in our region and the world, we can look forward to resuming more normal lives.\n",
      "\n",
      "Let us keep up our efforts in this final stretch, to cross the finish line together, and complete our mission to defeat Covid-19.\n",
      "\n",
      "Thank you.\n"
     ]
    }
   ],
   "source": [
    "# This is the full transcript of PM Lee's address on transitioning to phase 3, Covid-19 vaccination\n",
    "# Source: https://www.straitstimes.com/singapore/pm-lees-remarks-on-transitioning-to-phase-3-and-the-covid-19-vaccine\n",
    "\n",
    "speech = \"\"\"My fellow Singaporeans, we are coming to a full year since our first Covid-19 case.\n",
    "\n",
    "It has been a year of uncertainty, full of ups and downs, filled with anxiety and trepidation. But much has changed within the last few months.\n",
    "\n",
    "In March and April, we peaked at over 1,000 cases a day. Now on most days, we have zero cases of local transmissions.\n",
    "\n",
    "When the pandemic first started, we worried if there would be enough supplies in the supermarkets. Today, supermarket shelves are full, and shopping is calm and uneventful.\n",
    "\n",
    "Parents were worried then whether their kids should go to school, but we kept the school year intact, CCAs have resumed, and graduating students have finished exams and are waiting for their results.\n",
    "\n",
    "We will not forget the two months of circuit breaker in April and May. But today, life is a lot more normal. We go to work, dine out and meet friends, though in groups no more than five.\n",
    "\n",
    "How did we bring things under control?\n",
    "\n",
    "It took a tremendous effort, and some good luck. Our measures were hard for everyone, but they worked. Singaporeans showed resilience and took them in their stride.\n",
    "\n",
    "Our economy took a big hit, but we did not let it crash. Despite the global economic dislocation, most of our workers kept their jobs.\n",
    "\n",
    "Now, our defences against Covid-19 are much stronger.\n",
    "\n",
    "We have steadily built up our testing capacities and procedures. We introduced rostered routine testing of higher risk groups. We started using antigen rapid tests to resume larger gatherings and events safely.\n",
    "\n",
    "We also beefed up our contact tracing capabilities, for example, expanding our SafeEntry and TraceTogether programmes, and distributing TraceTogether tokens.\n",
    "\n",
    "We got used to the inconvenient restrictions, and found ways to carry on with life. We looked after one another, reminding each other to adhere to safe distancing, to wear masks, to see a doctor if ill, and so on.\n",
    "\n",
    "I am very grateful that Singaporeans have complied with the spirit, and not just the letter, of the rules. We stayed united, kept up our guard, and did not allow ourselves to become complacent over time.\n",
    "\n",
    "With everyone's full support, our enhanced safeguards worked, and we could gradually ease our restrictions, and we can be proud of how far we have come.\n",
    "\n",
    "Because of your efforts, we are now ready to progress to the next phase.\n",
    "\n",
    "Phase 3 will begin in two weeks' time, on Dec 28, so we will end the year with some good news.\n",
    "\n",
    "The ministerial task force will explain the details immediately after my broadcast.\n",
    "\n",
    "We will ease capacity limits in public places like malls and attractions, and at places of worship. One significant change is to allow groups of up to eight to congregate, up from the current maximum of five.\n",
    "\n",
    "So eight people can dine out together, or visit someone's home. This will make it easier to hold family get-togethers during the festive period.\n",
    "\n",
    "Please understand that even as we enter phase 3, the battle is far from won.\n",
    "\n",
    "The Covid-19 virus has not been eradicated. There is a long way to go. Around the world, the pandemic is still raging. Many countries are seeing second, third, or even fourth waves of infection, with record numbers of daily cases. International borders remain largely closed.\n",
    "\n",
    "But trade and travel are our lifeblood, and the longer our own borders stay closed to travellers, the greater the risk of us permanently losing out as an international hub, and consequently hurting our livelihoods.\n",
    "\n",
    "Therefore, our only option is to reopen our borders in a controlled and safe manner. As we do so, we will see more imported cases. And there will be some risk of these imported cases spreading to the community.\n",
    "\n",
    "We have already had a few cases recently. An airport staff, who likely came into contact with infected passengers. A marine worker, who picked up the virus after boarding ships to do repair and resupply work.\n",
    "\n",
    "This is a calculated risk we have to accept. But the Government will take every precaution, and do our best to prevent imported cases from triggering a new outbreak.\n",
    "\n",
    "At the same time, Singaporeans must keep their guard up, because the virus is most likely still circulating silently within our community. Each of us needs to play our part.\n",
    "\n",
    "By all means make use of the higher limits and reconnect with friends and family, but please do not abandon your mindset of watchfulness and caution.\n",
    "\n",
    "This is absolutely not the time to relax, and let our guard down, or to hold a big party, imagining that the problem has disappeared.\n",
    "\n",
    "Progressing from phase 2 to phase 3 is a calibrated, careful move.\n",
    "\n",
    "We are easing the restrictions in a controlled way, so that we can keep the Covid-19 situation stable, and take more steps forward later. So it is vital that you stay cautious and vigilant, continue to cooperate with the Government, and comply with the rules and restrictions that will apply in phase 3.\n",
    "\n",
    "How long will we have to keep this up for? It may be for quite a while, possibly a year or more.\n",
    "\n",
    "One key factor is how soon Covid-19 vaccines become available to us.\n",
    "\n",
    "The Government has been working quietly behind the scenes, since early in the pandemic, to secure access to vaccines. This was not a simple exercise.\n",
    "\n",
    "More than 200 vaccine candidates were being developed, and not all would succeed. We started talking to the pharmaceutical companies early to understand the science, and identify the promising candidates and the vaccines likely to reach production sooner.\n",
    "\n",
    "We set aside more than $1 billion. We placed multiple bets to sign advance purchase agreements and make early down payments for the most promising candidates, including with Moderna, Pfizer-BioNTech, and Sinovac.\n",
    "\n",
    "We made arrangements with pharmaceutical companies to facilitate their clinical trials and drug development in Singapore, and attracted a few to establish vaccine manufacturing capabilities here.\n",
    "\n",
    "We also supported local efforts to develop a vaccine. This gave our own scientists and researchers the opportunity to do cutting-edge work. It was also insurance, in case the global supply chain was disrupted.\n",
    "\n",
    "This way, we built up a diversified portfolio of options to ensure that Singapore would be near the front of the queue for vaccines, and not last in line.\n",
    "\n",
    "Securing early access to vaccines was a whole-of-government effort. Many agencies and public officers, led by the head of the civil service, were involved in this critical mission.\n",
    "\n",
    "I commend them for their good work. They are among the legion of unsung heroes who have helped us get through this crisis.\n",
    "\n",
    "As you would have read in the news, the first vaccines are now coming into production, and I am very happy to tell you that after studying the scientific evidence and clinical trial data, the Health Sciences Authority, HSA, has approved the Pfizer-BioNTech vaccine for pandemic use.\n",
    "\n",
    "The first shipment should arrive by the end of this month, making Singapore one of the first countries to obtain this vaccine. We also expect other vaccines to arrive in Singapore in the coming months.\n",
    "\n",
    "If all goes according to plan, we will have enough vaccines for everyone in Singapore by the third quarter of 2021.\n",
    "\n",
    "The Ministry of Health has set up a committee of doctors and experts to recommend a vaccination strategy for us.\n",
    "\n",
    "The committee has proposed that our entire adult population should be vaccinated, but to make vaccinations voluntary.\n",
    "\n",
    "First priority will be given to those who are at greatest risk: healthcare workers and front-line personnel, as well as the elderly and vulnerable.\n",
    "\n",
    "Thereafter, the committee proposes to progressively vaccinate the rest of the population, and to cover everyone who wants a vaccination by the end of next year.\n",
    "\n",
    "The Government has accepted these recommendations. I have personal confidence in our experts.\n",
    "\n",
    "My Cabinet colleagues and I, including the older ones, will be getting ourselves vaccinated early. This is to show you, especially seniors like me, that we believe the vaccines are safe.\n",
    "\n",
    "We have decided to make vaccinations free for all Singaporeans, and for all long-term residents who are currently here.\n",
    "\n",
    "So I strongly encourage you to get vaccinated, too, when the vaccine is offered to you. Because when you get yourself vaccinated, you are not just protecting yourself, you are also doing your part to protect others, especially your loved ones.\n",
    "\n",
    "The more of us are vaccinated, the harder it will be for the virus to spread, and the safer we will all be as a society.\n",
    "\n",
    "Vaccines will support our recovery in more ways than one.\n",
    "\n",
    "As a global aviation hub, we play a crucial role transporting vaccines around the world.\n",
    "\n",
    "Vaccines require cold chain management. An ordinary refrigerator is not good enough. The Pfizer vaccine needs to be stored at minus 70 deg C, colder than the Arctic in winter!\n",
    "\n",
    "This requires infrastructure, high standards, skilled personnel, and good connectivity to many different countries all along the supply chain.\n",
    "\n",
    "Fortunately, Singapore has a strong ecosystem for cargo handling.\n",
    "\n",
    "Leading global logistics companies like DHL, UPS and FedEx are based here. SIA and Changi Airport's ground handling partners are certified by Iata (International Air Transport Association) to handle and transport pharmaceutical supplies.\n",
    "\n",
    "We are now gearing ourselves up to handle large volumes of vaccine shipments into Singapore and through Singapore to help win the global fight against Covid-19.\n",
    "\n",
    "We did not get here overnight. We have always planned ahead, systematically creating opportunities for ourselves. It took us years of investment and planning, building a business-friendly climate and expanding our air links around the world.\n",
    "\n",
    "These long-term investments are now paying dividends.\n",
    "\n",
    "During this immediate crisis, we have reacted quickly and comprehensively, marshalled resources to solve our problems, and stayed resilient.\n",
    "\n",
    "Our situation is now stable, but only because everyone has worked so hard, and sacrificed so much.\n",
    "\n",
    "Now that vaccines are becoming available, we can see light at the end of the tunnel.\n",
    "\n",
    "As vaccinations become widespread not only in Singapore, but also in our region and the world, we can look forward to resuming more normal lives.\n",
    "\n",
    "Let us keep up our efforts in this final stretch, to cross the finish line together, and complete our mission to defeat Covid-19.\n",
    "\n",
    "Thank you.\"\"\"\n",
    "\n",
    "print ( speech )"
   ]
  },
  {
   "cell_type": "markdown",
   "metadata": {},
   "source": [
    "## Unicode\n",
    "\n",
    "Unicode is a set of characters containing many special characters.\n",
    "\n",
    "For example, to print Greek letters or emojis, you can use Unicode, which is maintained by the Unicode Consortium.\n",
    "\n",
    "Emoji are pictographs (pictorial symbols) that are typically presented in a colorful form and used inline in text.  They represent things such as faces, weather, vehicles and buildings, food and drink, animals and plants, or icons that represent emotions, feelings, or activities.  To the computer, each is simply another character, but people send each other billions of emoji everyday to express love, thanks, congratulations, or any number of a growing set of ideas.\n",
    "\n",
    "For the complete Unicode character table, consult: [Unicode Character Table](https://unicode-table.com/)\n",
    "\n",
    "For the latest edition of Unicode, consult: [The Unicode Consortium](https://www.unicode.org/)\n",
    "\n",
    "The latest version of Unicode is version 14.0.0 (containing 144,697 characters), which was released on 14 September 2021."
   ]
  },
  {
   "cell_type": "code",
   "execution_count": 5,
   "metadata": {},
   "outputs": [
    {
     "name": "stdout",
     "output_type": "stream",
     "text": [
      "‐\n",
      "⚡\n",
      "⛔\n",
      "李光耀\n",
      "Россия\n"
     ]
    }
   ],
   "source": [
    "import unicodedata              # the below examples are names of unicode, not the code itself so it doesn't start with \\u\n",
    "# Look up character by name, if u don't know the \\u code\n",
    "# Return as the logo, the character it self\n",
    "\n",
    "print (unicodedata.lookup('HYPHEN'))\n",
    "print (unicodedata.lookup('HIGH VOLTAGE SIGN'))\n",
    "print (unicodedata.lookup('NO ENTRY'))\n",
    "\n",
    "c = \"\\u674e\\u5149\\u8000\" # \"Lee Kuan Yew\" in Chinese\n",
    "d = \"\\u0420\\u043e\\u0441\\u0441\\u0438\\u044f\" # \"Russia\" in Cyrillic\n",
    "print (c)\n",
    "print (d)"
   ]
  },
  {
   "cell_type": "code",
   "execution_count": 8,
   "metadata": {},
   "outputs": [
    {
     "name": "stdout",
     "output_type": "stream",
     "text": [
      "CJK UNIFIED IDEOGRAPH-6F6D\n",
      "CJK UNIFIED IDEOGRAPH-8000\n",
      "VERTICAL LINE\n",
      "TILDE\n",
      "LEFT CURLY BRACKET\n"
     ]
    }
   ],
   "source": [
    "import unicodedata  #opposite of above\n",
    "# Return as name, not \\u \n",
    "    \n",
    "print (unicodedata.name(u'潭'))     #u here is u string\n",
    "print (unicodedata.name(u'耀'))\n",
    "print (unicodedata.name(u'|'))\n",
    "print (unicodedata.name(u'~'))\n",
    "print (unicodedata.name(u'{'))"
   ]
  },
  {
   "cell_type": "code",
   "execution_count": 9,
   "metadata": {
    "scrolled": true
   },
   "outputs": [
    {
     "name": "stdout",
     "output_type": "stream",
     "text": [
      "Lu\n",
      "Ll\n",
      "Lo\n",
      "Ll\n",
      "Po\n"
     ]
    }
   ],
   "source": [
    "import unicodedata   #below are the 5 categories of unicode (there are a lot of categories), there is a total of 14k unicode\n",
    "\n",
    "print (unicodedata.category(u'A'))\n",
    "print (unicodedata.category(u'b'))\n",
    "print (unicodedata.category(u'潭'))\n",
    "print (unicodedata.category(u'ß'))\n",
    "print (unicodedata.category(u':'))\n",
    "\n",
    "# refer to https://www.fileformat.info/info/unicode/category/index.htm for details"
   ]
  },
  {
   "cell_type": "code",
   "execution_count": 25,
   "metadata": {
    "scrolled": false
   },
   "outputs": [
    {
     "name": "stdout",
     "output_type": "stream",
     "text": [
      "0\n",
      "0\n",
      "🍀\n",
      "ἴ0\n",
      "Ω\n",
      "Δ\n",
      "σ\n",
      "ε\n",
      "°\n",
      "v = 6î + 4ĵ - 2k̂\n",
      "\n",
      "😀\n",
      "😆\n",
      "🤣\n",
      "😇\n",
      "🤣\n"
     ]
    }
   ],
   "source": [
    "# These are Greek letters  \n",
    "# difference between \\U and \\u is that \\U can decode more than 4 hex digit, \\u capped at 4\n",
    "\n",
    "print ('\\U00000030')   # for \\U must have 8, if not just add 0 infront\n",
    "print ('\\u0030')       # for \\u must have 4, if not just add 0 infront\n",
    "print ('\\U0001f340')\n",
    "print ('\\u1f340')      #the code is same as the previous one but it cant be run\n",
    "\n",
    "OMEGA = \"\\u03A9\"\n",
    "DELTA = \"\\u0394\"\n",
    "sigma = \"\\u03C3\"\n",
    "epsilon = \"\\u03B5\"\n",
    "degrees = \"\\u00B0\"\n",
    "vector = \"v = 6i\\u0302 + 4j\\u0302 - 2k\\u0302\"   # each \\u0302 counts as 1\n",
    "\n",
    "print ( OMEGA )\n",
    "print ( DELTA )\n",
    "print ( sigma )\n",
    "print ( epsilon )\n",
    "print ( degrees )\n",
    "print ( vector )\n",
    "\n",
    "print ()\n",
    "\n",
    "# These are emoji\n",
    "# refer to https://unicode.org/emoji/charts/full-emoji-list.html\n",
    "# replace the \"+\" with \"000\"\n",
    "\n",
    "grinning_face = \"\\U0001f600\"                # from U+1F600\n",
    "grinning_sqinting_face = \"\\U0001F606\"       # from U+1F606\n",
    "laughing_with_tears = \"\\U0001F923\"          # from U+1F923\n",
    "face_with_halo = \"\\U0001F607\"               # from U+1F607\n",
    "rolling_on_the_floor_laughing = \"\\U0001F923\"  # from U+1F923\n",
    "\n",
    "print ( grinning_face )\n",
    "print ( grinning_sqinting_face )\n",
    "print ( laughing_with_tears )\n",
    "print ( face_with_halo )\n",
    "print (rolling_on_the_floor_laughing )"
   ]
  },
  {
   "cell_type": "code",
   "execution_count": 30,
   "metadata": {},
   "outputs": [
    {
     "name": "stdout",
     "output_type": "stream",
     "text": [
      "I hope you all are not 🥱!\n",
      "{\n",
      "⛔\n"
     ]
    }
   ],
   "source": [
    "print (\"I hope you all are not \\U0001F971!\")   # https://unicode-table.com/en/1F971/\n",
    "\n",
    "import unicodedata\n",
    "\n",
    "print (unicodedata.lookup('LEFT CURLY BRACKET')) \n",
    "print (unicodedata.lookup('NO ENTRY'))"
   ]
  },
  {
   "cell_type": "markdown",
   "metadata": {},
   "source": [
    "### Exercise\n",
    "\n",
    "In your own time, experiment with printing out Unicode characters!\n",
    "\n",
    "Emojis can be fun to play around with!"
   ]
  },
  {
   "cell_type": "markdown",
   "metadata": {},
   "source": [
    "## Unpacking Strings\n",
    "\n",
    "This refers to the process of assigning each character of a string to separate variables.\n",
    "\n",
    "The concept of unpacking an object is an important one.  It can also be used with lists and tuples.  We will unpack lists and tuples when we learn them.\n",
    "\n",
    "Note that when the number of variables do not match, a ValueError is raised."
   ]
  },
  {
   "cell_type": "code",
   "execution_count": 36,
   "metadata": {},
   "outputs": [
    {
     "name": "stdout",
     "output_type": "stream",
     "text": [
      "5\n",
      "J\n",
      "a\n",
      "p\n",
      "a\n",
      "n\n"
     ]
    }
   ],
   "source": [
    "c1, c2, c3, c4, c5 = \"Japan\"   # \"Japan\" has five letters\n",
    "# assigning each character as a variable, to unpack\n",
    "\n",
    "print (len(\"Japan\"))\n",
    "print ( c1 )   # c1 will store the character \"J\"\n",
    "print ( c2 )   # c2 will store the character \"a\"\n",
    "print ( c3 )   # c3 will store the character \"p\"\n",
    "print ( c4 )   # c4 will store the character \"a\"\n",
    "print ( c5 )   # c5 will store the character \"n\""
   ]
  },
  {
   "cell_type": "code",
   "execution_count": 33,
   "metadata": {},
   "outputs": [
    {
     "ename": "ValueError",
     "evalue": "not enough values to unpack (expected 6, got 5)",
     "output_type": "error",
     "traceback": [
      "\u001b[1;31m---------------------------------------------------------------------------\u001b[0m",
      "\u001b[1;31mValueError\u001b[0m                                Traceback (most recent call last)",
      "Cell \u001b[1;32mIn[33], line 1\u001b[0m\n\u001b[1;32m----> 1\u001b[0m c1, c2, c3, c4, c5, c6 \u001b[38;5;241m=\u001b[39m \u001b[38;5;124m\"\u001b[39m\u001b[38;5;124mJapan\u001b[39m\u001b[38;5;124m\"\u001b[39m   \u001b[38;5;66;03m# ValueError - \"Japan\" has five letters, not six!\u001b[39;00m\n\u001b[0;32m      3\u001b[0m \u001b[38;5;28mprint\u001b[39m ( c1 )\n\u001b[0;32m      4\u001b[0m \u001b[38;5;28mprint\u001b[39m ( c2 )\n",
      "\u001b[1;31mValueError\u001b[0m: not enough values to unpack (expected 6, got 5)"
     ]
    }
   ],
   "source": [
    "c1, c2, c3, c4, c5, c6 = \"Japan\"   # ValueError - \"Japan\" has five letters, not six!\n",
    "\n",
    "print ( c1 )\n",
    "print ( c2 )\n",
    "print ( c3 )\n",
    "print ( c4 )\n",
    "print ( c5 )\n",
    "print ( c6 )"
   ]
  },
  {
   "cell_type": "code",
   "execution_count": 35,
   "metadata": {
    "scrolled": false
   },
   "outputs": [
    {
     "ename": "ValueError",
     "evalue": "too many values to unpack (expected 4)",
     "output_type": "error",
     "traceback": [
      "\u001b[1;31m---------------------------------------------------------------------------\u001b[0m",
      "\u001b[1;31mValueError\u001b[0m                                Traceback (most recent call last)",
      "Cell \u001b[1;32mIn[35], line 1\u001b[0m\n\u001b[1;32m----> 1\u001b[0m c1, c2, c3, c4 \u001b[38;5;241m=\u001b[39m \u001b[38;5;124m\"\u001b[39m\u001b[38;5;124mJapan\u001b[39m\u001b[38;5;124m\"\u001b[39m   \u001b[38;5;66;03m# ValueError - \"Japan\" has five letters, not four!\u001b[39;00m\n\u001b[0;32m      3\u001b[0m \u001b[38;5;28mprint\u001b[39m (\u001b[38;5;28mlen\u001b[39m(\u001b[38;5;124m\"\u001b[39m\u001b[38;5;124mJapan\u001b[39m\u001b[38;5;124m\"\u001b[39m))\n\u001b[0;32m      4\u001b[0m \u001b[38;5;28mprint\u001b[39m ( c1 )\n",
      "\u001b[1;31mValueError\u001b[0m: too many values to unpack (expected 4)"
     ]
    }
   ],
   "source": [
    "c1, c2, c3, c4 = \"Japan\"   # ValueError - \"Japan\" has five letters, not four!\n",
    "\n",
    "print ( c1 )\n",
    "print ( c2 )\n",
    "print ( c3 )\n",
    "print ( c4 )"
   ]
  },
  {
   "cell_type": "markdown",
   "metadata": {},
   "source": [
    "## String Length\n",
    "\n",
    "The ```len()``` function returns the length of a string, the number of characters in it.\n",
    "\n",
    "Note that a space is counted as a character.\n",
    "\n",
    "It is valid to have a string of zero characters, written just as '' or \"\".  Such a string is called an \"empty string\".  The length of an \"empty string\" is zero.\n",
    "\n",
    "The ```len()``` function cannot be applied to integers, floating-point values, and complex numbers."
   ]
  },
  {
   "cell_type": "code",
   "execution_count": 39,
   "metadata": {},
   "outputs": [
    {
     "name": "stdout",
     "output_type": "stream",
     "text": [
      "0\n",
      "2\n",
      "1\n",
      "9\n",
      "10\n",
      "13\n",
      "14\n",
      "63\n"
     ]
    }
   ],
   "source": [
    "a = \"\"   # this is an \"empty string\"\n",
    "a1 = \"  \"  # 2 spaces\n",
    "b = \"Q\"   # a string can have just a single character\n",
    "c = \"Singapore\"\n",
    "c1 = \"Singapore \"\n",
    "d = \"  Singapore  \"\n",
    "e = \"Tokyo Olympics\"\n",
    "f = \"Wee Kim Wee School of Communication and Information (Wakawaski)\"\n",
    "\n",
    "print ( len(a) )   # the length of an empty string is zero\n",
    "print ( len(a1))   # 2 spaces are counted as 2, but 1 spaces is empty, 0\n",
    "print ( len(b) )\n",
    "print ( len(c) )   # the length of the string \"Singapore\" is 9\n",
    "print ( len(c1))   # the space is counted as 1\n",
    "print ( len(d) )   # the length of the string *includes* spaces\n",
    "print ( len(e) )\n",
    "print ( len(f) )"
   ]
  },
  {
   "cell_type": "code",
   "execution_count": 40,
   "metadata": {},
   "outputs": [
    {
     "name": "stdout",
     "output_type": "stream",
     "text": [
      "9\n"
     ]
    }
   ],
   "source": [
    "print ( len(\"Singapore\") )"
   ]
  },
  {
   "cell_type": "code",
   "execution_count": 41,
   "metadata": {},
   "outputs": [
    {
     "name": "stdout",
     "output_type": "stream",
     "text": [
      "1\n",
      "1\n",
      "1\n",
      "1\n",
      "1\n",
      "19\n"
     ]
    }
   ],
   "source": [
    "OMEGA = \"\\u03A9\"   # Greek letters (and Unicode characters, in general), count as 1\n",
    "DELTA = \"\\u0394\"\n",
    "sigma = \"\\u03C3\"\n",
    "epsilon = \"\\u03B5\"\n",
    "degrees = \"\\u00B0\"\n",
    "vector = \"v = 6i\\u0302 + 4j\\u0302 - 2k\\u0302\"   # each \\u0302 counts as 1\n",
    "\n",
    "print ( len(OMEGA) )\n",
    "print ( len(DELTA) )\n",
    "print ( len(sigma) )\n",
    "print ( len(epsilon) )\n",
    "print ( len(degrees) )\n",
    "print ( len(vector) )"
   ]
  },
  {
   "cell_type": "code",
   "execution_count": 42,
   "metadata": {},
   "outputs": [
    {
     "name": "stdout",
     "output_type": "stream",
     "text": [
      "19\n"
     ]
    }
   ],
   "source": [
    "print ( len(\"v = 6i\\u0302 + 4j\\u0302 - 2k\\u0302\") )\n",
    "\n",
    "# make sure you know how the output (19) is arrived at"
   ]
  },
  {
   "cell_type": "code",
   "execution_count": 43,
   "metadata": {},
   "outputs": [
    {
     "name": "stdout",
     "output_type": "stream",
     "text": [
      "10290\n"
     ]
    }
   ],
   "source": [
    "print ( len(speech) )"
   ]
  },
  {
   "cell_type": "code",
   "execution_count": 44,
   "metadata": {
    "scrolled": true
   },
   "outputs": [
    {
     "ename": "TypeError",
     "evalue": "object of type 'int' has no len()",
     "output_type": "error",
     "traceback": [
      "\u001b[1;31m---------------------------------------------------------------------------\u001b[0m",
      "\u001b[1;31mTypeError\u001b[0m                                 Traceback (most recent call last)",
      "Cell \u001b[1;32mIn[44], line 3\u001b[0m\n\u001b[0;32m      1\u001b[0m count \u001b[38;5;241m=\u001b[39m \u001b[38;5;241m5\u001b[39m\n\u001b[1;32m----> 3\u001b[0m \u001b[38;5;28mprint\u001b[39m ( \u001b[38;5;28mlen\u001b[39m(count) )\n",
      "\u001b[1;31mTypeError\u001b[0m: object of type 'int' has no len()"
     ]
    }
   ],
   "source": [
    "count = 5\n",
    "\n",
    "print ( len(count) )   # TypeError -- len() cannot be applied to integers (int)"
   ]
  },
  {
   "cell_type": "code",
   "execution_count": 45,
   "metadata": {
    "scrolled": true
   },
   "outputs": [
    {
     "ename": "TypeError",
     "evalue": "object of type 'float' has no len()",
     "output_type": "error",
     "traceback": [
      "\u001b[1;31m---------------------------------------------------------------------------\u001b[0m",
      "\u001b[1;31mTypeError\u001b[0m                                 Traceback (most recent call last)",
      "Cell \u001b[1;32mIn[45], line 3\u001b[0m\n\u001b[0;32m      1\u001b[0m mathematical_constant \u001b[38;5;241m=\u001b[39m \u001b[38;5;241m3.1415\u001b[39m\n\u001b[1;32m----> 3\u001b[0m \u001b[38;5;28mprint\u001b[39m ( \u001b[38;5;28mlen\u001b[39m(mathematical_constant) )\n",
      "\u001b[1;31mTypeError\u001b[0m: object of type 'float' has no len()"
     ]
    }
   ],
   "source": [
    "mathematical_constant = 3.1415\n",
    "\n",
    "print ( len(mathematical_constant) )   # TypeError -- len() cannot be applied to an floating-point values (float)"
   ]
  },
  {
   "cell_type": "code",
   "execution_count": 46,
   "metadata": {
    "scrolled": true
   },
   "outputs": [
    {
     "ename": "TypeError",
     "evalue": "object of type 'complex' has no len()",
     "output_type": "error",
     "traceback": [
      "\u001b[1;31m---------------------------------------------------------------------------\u001b[0m",
      "\u001b[1;31mTypeError\u001b[0m                                 Traceback (most recent call last)",
      "Cell \u001b[1;32mIn[46], line 3\u001b[0m\n\u001b[0;32m      1\u001b[0m a_simple_complex_number \u001b[38;5;241m=\u001b[39m \u001b[38;5;241m3\u001b[39m \u001b[38;5;241m+\u001b[39m \u001b[38;5;241m4\u001b[39mj\n\u001b[1;32m----> 3\u001b[0m \u001b[38;5;28mprint\u001b[39m ( \u001b[38;5;28mlen\u001b[39m(a_simple_complex_number) )\n",
      "\u001b[1;31mTypeError\u001b[0m: object of type 'complex' has no len()"
     ]
    }
   ],
   "source": [
    "a_simple_complex_number = 3 + 4j\n",
    "\n",
    "print ( len(a_simple_complex_number) )   # TypeError -- len() cannot be applied to complex numbers (complex)"
   ]
  },
  {
   "cell_type": "markdown",
   "metadata": {},
   "source": [
    "#### Future Alert\n",
    "\n",
    "The ```len()``` function is occurs very commonly.\n",
    "\n",
    "We will encounter it again later when discussing lists, dictionaries, tuples and sets.  Remember to look out for it!\n",
    "\n",
    "In general, when you use ```len()```, think \"how many elements\"."
   ]
  },
  {
   "cell_type": "markdown",
   "metadata": {},
   "source": [
    "## Intergers/Floating-point Values vs Strings\n",
    "\n",
    "It is important to be able to distinguish between numbers (integer and floating-point) and strings.\n",
    "\n",
    "The str() function is used to convert numbers (integer and floating-point) to strings."
   ]
  },
  {
   "cell_type": "code",
   "execution_count": 47,
   "metadata": {},
   "outputs": [
    {
     "ename": "TypeError",
     "evalue": "unsupported operand type(s) for +: 'int' and 'str'",
     "output_type": "error",
     "traceback": [
      "\u001b[1;31m---------------------------------------------------------------------------\u001b[0m",
      "\u001b[1;31mTypeError\u001b[0m                                 Traceback (most recent call last)",
      "Cell \u001b[1;32mIn[47], line 1\u001b[0m\n\u001b[1;32m----> 1\u001b[0m \u001b[38;5;28mprint\u001b[39m ( \u001b[38;5;241m3\u001b[39m \u001b[38;5;241m+\u001b[39m \u001b[38;5;124m\"\u001b[39m\u001b[38;5;124ma string\u001b[39m\u001b[38;5;124m\"\u001b[39m)\n",
      "\u001b[1;31mTypeError\u001b[0m: unsupported operand type(s) for +: 'int' and 'str'"
     ]
    }
   ],
   "source": [
    "print ( 3 + \"a string\")"
   ]
  },
  {
   "cell_type": "code",
   "execution_count": 50,
   "metadata": {
    "scrolled": true
   },
   "outputs": [
    {
     "name": "stdout",
     "output_type": "stream",
     "text": [
      "5 --- 5\n",
      "3.1415 --- 3.1415\n",
      "5 5\n",
      "\n",
      "<class 'int'>\n",
      "<class 'str'>\n",
      "\n",
      "<class 'float'>\n",
      "<class 'str'>\n"
     ]
    }
   ],
   "source": [
    "a = 5   # an integer\n",
    "b = 3.1415   # a floating-point value\n",
    "\n",
    "c = str(a)   # convert the integer stored in variable a to a string and assign it to c\n",
    "d = str(b)   # convert the floating-point value stored in variable b to a string and assign it to d\n",
    "\n",
    "print (a, c, sep=\" --- \")   # visually, a and c look exactly the same -- they are different in type\n",
    "print (b, d, sep=\" --- \")   # visually, b and d look exactly the same -- they are different in type\n",
    "\n",
    "# Print (a,c) print tgt\n",
    "# Print (a,c,sep = \"==>\") sep is to separate\n",
    "print (a,c)  # by default separate with space\n",
    "print ()\n",
    "print ( type(a) )\n",
    "print ( type(c) )\n",
    "print ()\n",
    "print ( type(b) )\n",
    "print ( type(d) )"
   ]
  },
  {
   "cell_type": "markdown",
   "metadata": {},
   "source": [
    "## String Indexing\n",
    "\n",
    "String indexing is used to access a single character in a string.\n",
    "\n",
    "Strings represent meaning, and so they are ordered.\n",
    "\n",
    "\"Singapore\" has meaning, while ..\n",
    "\"poreaSing\" has no meaning.\n",
    "\n",
    "Because strings are ordered, the individual characters can be accessed using indexing.  An index is simply an integer that indicates position.\n",
    "\n",
    "The individual characters in a string are accessed with zero-based indexing with square brackets, so the first character is at index 0, the next character at index 1, and the last character is at index (lenght_of_string - 1).\n",
    "\n",
    "String indexing is useful when referring to or retrieving *a single character* in the string.\n",
    "\n",
    "Example:\n",
    "\n",
    "```language = \"PYTHON\"```\n",
    "\n",
    "```language[0] = \"P\"```      # zero-based indexing means that the first character in the string has an index of 0   \n",
    "```language[1] = \"Y\"```  \n",
    "```language[2] = \"T\"```  \n",
    "```language[3] = \"H\"```  \n",
    "```language[4] = \"O\"```  \n",
    "```language[5] = \"N\"```      # an index of 5 is used to access the last character in the string as the length of the string is 6"
   ]
  },
  {
   "cell_type": "code",
   "execution_count": 3,
   "metadata": {
    "scrolled": true
   },
   "outputs": [
    {
     "name": "stdout",
     "output_type": "stream",
     "text": [
      "C\n",
      "O\n",
      "B\n",
      "R\n",
      "A\n",
      " \n"
     ]
    }
   ],
   "source": [
    "language = \"COBRA \"\n",
    "\n",
    "print ( language[0] )   # \"C\"\n",
    "print ( language[1] )   # \"O\"\n",
    "print ( language[2] )   # \"B\"\n",
    "print ( language[3] )   # \"R\"\n",
    "print ( language[4] )   # \"A\"\n",
    "print ( language[5] )   # IndexError # in this case i put a space"
   ]
  },
  {
   "cell_type": "markdown",
   "metadata": {},
   "source": [
    "### Exercise\n",
    "\n",
    "Print the following letters from the string \"Tokyo 2020 Olympic Games\":\n",
    "\n",
    "* the letter y in the word \"Tokyo\"\n",
    "* the first 0 in the word \"2020\"\n",
    "* the letter p in the word \"Olympic\"\n",
    "* the letter m in the word \"Games\""
   ]
  },
  {
   "cell_type": "code",
   "execution_count": 4,
   "metadata": {
    "scrolled": true
   },
   "outputs": [
    {
     "name": "stdout",
     "output_type": "stream",
     "text": [
      "y\n",
      "0\n",
      "p\n",
      "m\n",
      "\n",
      "24\n"
     ]
    }
   ],
   "source": [
    "event = \"Tokyo 2020 Olympic Games\"\n",
    "\n",
    "print ( event[3] )\n",
    "print ( event[7] )\n",
    "print ( event[15] )\n",
    "print ( event[21] )\n",
    "print ()   # prints an empty line\n",
    "print ( len(event) )"
   ]
  },
  {
   "cell_type": "code",
   "execution_count": 5,
   "metadata": {},
   "outputs": [
    {
     "name": "stdout",
     "output_type": "stream",
     "text": [
      "y\n",
      "0\n",
      "p\n",
      "m\n",
      "\n",
      "24\n"
     ]
    }
   ],
   "source": [
    "print ( \"Tokyo 2020 Olympic Games\"[3] )\n",
    "print ( \"Tokyo 2020 Olympic Games\"[7] )\n",
    "print ( \"Tokyo 2020 Olympic Games\"[15] )\n",
    "print ( \"Tokyo 2020 Olympic Games\"[21] )\n",
    "print ()   # prints an empty line\n",
    "print ( len(\"Tokyo 2020 Olympic Games\") )"
   ]
  },
  {
   "cell_type": "markdown",
   "metadata": {},
   "source": [
    "When you index a character \"beyond\" the string, you get an IndexError."
   ]
  },
  {
   "cell_type": "code",
   "execution_count": 6,
   "metadata": {
    "scrolled": false
   },
   "outputs": [
    {
     "ename": "IndexError",
     "evalue": "string index out of range",
     "output_type": "error",
     "traceback": [
      "\u001b[1;31m---------------------------------------------------------------------------\u001b[0m",
      "\u001b[1;31mIndexError\u001b[0m                                Traceback (most recent call last)",
      "Cell \u001b[1;32mIn[6], line 3\u001b[0m\n\u001b[0;32m      1\u001b[0m event \u001b[38;5;241m=\u001b[39m \u001b[38;5;124m\"\u001b[39m\u001b[38;5;124mTokyo 2020 Olympic Games\u001b[39m\u001b[38;5;124m\"\u001b[39m   \u001b[38;5;66;03m# from the previous cell, we know event has only got 24 characters\u001b[39;00m\n\u001b[1;32m----> 3\u001b[0m \u001b[38;5;28mprint\u001b[39m ( event[\u001b[38;5;241m30\u001b[39m] )\n",
      "\u001b[1;31mIndexError\u001b[0m: string index out of range"
     ]
    }
   ],
   "source": [
    "event = \"Tokyo 2020 Olympic Games\"   # from the previous cell, we know event has only got 24 characters\n",
    "\n",
    "print ( event[30] )   # IndexError -- the word does not have so many characters!"
   ]
  },
  {
   "cell_type": "markdown",
   "metadata": {},
   "source": [
    "## String Negative Indexing\n",
    "\n",
    "In negative indexing, the characters are indexed backward from -1.\n",
    "\n",
    "* the last character in the string is indexed -1\n",
    "* the second last character in the string is indexed -2\n",
    "* the third last character in the string is indexed -3\n",
    "* and so on ...\n",
    "\n",
    "Like string indexing, string negative indexing is useful when referring to *a single character* in the string."
   ]
  },
  {
   "cell_type": "code",
   "execution_count": 7,
   "metadata": {},
   "outputs": [
    {
     "name": "stdout",
     "output_type": "stream",
     "text": [
      "N\n",
      "O\n",
      "H\n",
      "T\n",
      "Y\n",
      "P\n"
     ]
    },
    {
     "ename": "IndexError",
     "evalue": "string index out of range",
     "output_type": "error",
     "traceback": [
      "\u001b[1;31m---------------------------------------------------------------------------\u001b[0m",
      "\u001b[1;31mIndexError\u001b[0m                                Traceback (most recent call last)",
      "Cell \u001b[1;32mIn[7], line 9\u001b[0m\n\u001b[0;32m      7\u001b[0m \u001b[38;5;28mprint\u001b[39m ( language[\u001b[38;5;241m-\u001b[39m\u001b[38;5;241m5\u001b[39m] )   \u001b[38;5;66;03m# \"Y\"\u001b[39;00m\n\u001b[0;32m      8\u001b[0m \u001b[38;5;28mprint\u001b[39m ( language[\u001b[38;5;241m-\u001b[39m\u001b[38;5;241m6\u001b[39m] )   \u001b[38;5;66;03m# \"P\"\u001b[39;00m\n\u001b[1;32m----> 9\u001b[0m \u001b[38;5;28mprint\u001b[39m ( language[\u001b[38;5;241m-\u001b[39m\u001b[38;5;241m7\u001b[39m] )\n",
      "\u001b[1;31mIndexError\u001b[0m: string index out of range"
     ]
    }
   ],
   "source": [
    "language = \"PYTHON\"\n",
    "\n",
    "print ( language[-1] )   # \"N\"  take note not -0\n",
    "print ( language[-2] )   # \"O\"\n",
    "print ( language[-3] )   # \"H\"\n",
    "print ( language[-4] )   # \"T\"\n",
    "print ( language[-5] )   # \"Y\"\n",
    "print ( language[-6] )   # \"P\"\n",
    "print ( language[-7] )   # IndexError"
   ]
  },
  {
   "cell_type": "code",
   "execution_count": 8,
   "metadata": {
    "scrolled": true
   },
   "outputs": [
    {
     "ename": "IndexError",
     "evalue": "string index out of range",
     "output_type": "error",
     "traceback": [
      "\u001b[1;31m---------------------------------------------------------------------------\u001b[0m",
      "\u001b[1;31mIndexError\u001b[0m                                Traceback (most recent call last)",
      "Cell \u001b[1;32mIn[8], line 3\u001b[0m\n\u001b[0;32m      1\u001b[0m language \u001b[38;5;241m=\u001b[39m \u001b[38;5;124m\"\u001b[39m\u001b[38;5;124mPYTHON\u001b[39m\u001b[38;5;124m\"\u001b[39m\n\u001b[1;32m----> 3\u001b[0m \u001b[38;5;28mprint\u001b[39m ( language[\u001b[38;5;241m-\u001b[39m\u001b[38;5;241m20\u001b[39m] )\n",
      "\u001b[1;31mIndexError\u001b[0m: string index out of range"
     ]
    }
   ],
   "source": [
    "language = \"PYTHON\"\n",
    "\n",
    "print ( language[-20] )   # IndexError -- you have \"overshot\""
   ]
  },
  {
   "cell_type": "markdown",
   "metadata": {},
   "source": [
    "### Exercise\n",
    "\n",
    "Use negative indexing to print the following letters from the string \"Quacquarelli Symonds (QS) University Ranking\":\n",
    "\n",
    "* the letter q in the word \"Quacquarelli\"\n",
    "* the letter S in the word \"Symonds\"\n",
    "* the letter v in the word \"University\"\n",
    "* the letter i in the word \"Ranking\""
   ]
  },
  {
   "cell_type": "code",
   "execution_count": 10,
   "metadata": {
    "scrolled": true
   },
   "outputs": [
    {
     "name": "stdout",
     "output_type": "stream",
     "text": [
      "q\n",
      "S\n",
      "v\n",
      "i\n"
     ]
    }
   ],
   "source": [
    "# Solution to Exercise\n",
    "\n",
    "ranking = \"Quacquarelli Symonds (QS) University Ranking\"\n",
    "\n",
    "print (ranking[4])\n",
    "print (ranking[-31])\n",
    "print (ranking[-15])\n",
    "print (ranking[-3])"
   ]
  },
  {
   "cell_type": "markdown",
   "metadata": {},
   "source": [
    "# INDEXING vs SLICING"
   ]
  },
  {
   "cell_type": "markdown",
   "metadata": {},
   "source": [
    "## String Slicing\n",
    "\n",
    "String slicing is a powerful way to refer to a *part of a string* instead of just a *single character*:\n",
    "\n",
    "* s[start:end] returns a substring from s beginning at the start index, running up to but *not including the end index*\n",
    "* If the start index is omitted, starts from the beginning of the string\n",
    "* If the end index is omitted, runs through the end of the string\n",
    "* If the start index is equal to the end index, the slice is the empty string.\n",
    "\n",
    "Note: Make sure you are able to distinguish between string indexing and string slicing.\n",
    "\n",
    "* string indexing: a single character is being accessed\n",
    "* string slicing: a contiguous part of the string is being accessed\n",
    "\n",
    "There is another key point you have to note.\n",
    "\n",
    "* string indexing: you cannot go \"beyond\" the length of the string\n",
    "* string slicing: you can go \"beyond\" the length of the string"
   ]
  },
  {
   "cell_type": "code",
   "execution_count": 12,
   "metadata": {
    "scrolled": true
   },
   "outputs": [
    {
     "name": "stdout",
     "output_type": "stream",
     "text": [
      "There are 38 characters in the string.\n",
      "\n",
      "Technological\n",
      "University\n",
      "(NTU)\n",
      "Nanyang\n",
      "\n",
      "University (NTU)\n",
      "\n",
      "Technological\n"
     ]
    }
   ],
   "source": [
    "school = \"Nanyang Technological University (NTU)\"\n",
    "\n",
    "print ( \"There are\", len(school), \"characters in the string.\" )\n",
    "print ()\n",
    "print ( school[8:21] )   # the 21 position not included\n",
    "print ( school[22:32] )\n",
    "print ( school[33:] )\n",
    "print ( \"Nanyang Technological University (NTU)\"[:7] )\n",
    "print ( school[50:] )   # prints empty line\n",
    "print ( school[22:10000] )   # no problems going beyond the end of the string -- prints till the end of the string\n",
    "print ()   # prints empty line\n",
    "print ( school[-30:-17] )   # string slicing using negative indexing"
   ]
  },
  {
   "cell_type": "code",
   "execution_count": 14,
   "metadata": {},
   "outputs": [
    {
     "name": "stdout",
     "output_type": "stream",
     "text": [
      "Nanyang Technological University (NTU)\n",
      "Nanyang Technological University (NTU)\n"
     ]
    }
   ],
   "source": [
    "print ( school[:] )\n",
    "print (school)"
   ]
  },
  {
   "cell_type": "markdown",
   "metadata": {},
   "source": [
    "### Note that:\n",
    "\n",
    "```s[:i] + s[i:] = s```"
   ]
  },
  {
   "cell_type": "code",
   "execution_count": 15,
   "metadata": {
    "scrolled": true
   },
   "outputs": [
    {
     "name": "stdout",
     "output_type": "stream",
     "text": [
      "Massachusetts In\n",
      "stitute of Technology (MIT)\n",
      "\n",
      "Massachusetts Institute of Technology (MIT)\n"
     ]
    }
   ],
   "source": [
    "school = \"Massachusetts Institute of Technology (MIT)\"\n",
    "\n",
    "print ( school[:16] )\n",
    "print ( school[16:] )\n",
    "print ()\n",
    "print ( school[:16] + school[16:] )   # remember: s[:i] + s[i:] = s"
   ]
  },
  {
   "cell_type": "code",
   "execution_count": 16,
   "metadata": {},
   "outputs": [
    {
     "name": "stdout",
     "output_type": "stream",
     "text": [
      "Massachusetts Instit\n",
      "ute of Technology (MIT)\n",
      "\n",
      "Massachusetts Institute of Technology (MIT)\n"
     ]
    }
   ],
   "source": [
    "school = \"Massachusetts Institute of Technology (MIT)\"\n",
    "\n",
    "print ( school[:20] )\n",
    "print ( school[20:] )\n",
    "print ()\n",
    "print ( school[:20] + school[20:] )   # remember: s[:i] + s[i:] = s"
   ]
  },
  {
   "cell_type": "code",
   "execution_count": 17,
   "metadata": {},
   "outputs": [
    {
     "name": "stdout",
     "output_type": "stream",
     "text": [
      "43\n",
      "\n",
      "Massachusetts Institute of Technology (MIT)\n",
      "\n",
      "\n",
      "Massachusetts Institute of Technology (MIT)\n"
     ]
    }
   ],
   "source": [
    "school = \"Massachusetts Institute of Technology (MIT)\"\n",
    "\n",
    "print ( len(school) )\n",
    "print ()\n",
    "print ( school[:50] )\n",
    "print ( school[50:] )\n",
    "print ()\n",
    "print ( school[:50] + school[50:] )   # 50 is greater than the length of school (43) -- no problems"
   ]
  },
  {
   "cell_type": "markdown",
   "metadata": {},
   "source": [
    "## Extracting Every xth Character"
   ]
  },
  {
   "cell_type": "code",
   "execution_count": 22,
   "metadata": {},
   "outputs": [
    {
     "name": "stdout",
     "output_type": "stream",
     "text": [
      "Tikn stehretwr hr s hc spoal h esns e naei t\n",
      "Thinking is the hardest work there is, which is probably the reason so few engage in it.\n"
     ]
    },
    {
     "ename": "ValueError",
     "evalue": "slice step cannot be zero",
     "output_type": "error",
     "traceback": [
      "\u001b[1;31m---------------------------------------------------------------------------\u001b[0m",
      "\u001b[1;31mValueError\u001b[0m                                Traceback (most recent call last)",
      "Cell \u001b[1;32mIn[22], line 7\u001b[0m\n\u001b[0;32m      5\u001b[0m \u001b[38;5;28mprint\u001b[39m ( quotation[::\u001b[38;5;241m2\u001b[39m] )  \u001b[38;5;66;03m# first colon is whole string, second colon refers to the # of character u wan to skikp\u001b[39;00m\n\u001b[0;32m      6\u001b[0m \u001b[38;5;28mprint\u001b[39m ( quotation[::\u001b[38;5;241m1\u001b[39m] )  \u001b[38;5;66;03m# because the last number is not counted, so ::1 means no space\u001b[39;00m\n\u001b[1;32m----> 7\u001b[0m \u001b[38;5;28mprint\u001b[39m ( quotation[::\u001b[38;5;241m0\u001b[39m] )\n",
      "\u001b[1;31mValueError\u001b[0m: slice step cannot be zero"
     ]
    }
   ],
   "source": [
    "# Extracting every second character\n",
    "\n",
    "quotation = \"Thinking is the hardest work there is, which is probably the reason so few engage in it.\"\n",
    "\n",
    "print ( quotation[::2] )  # first colon is whole string, second colon refers to the # of character u wan to skikp\n",
    "print ( quotation[::1] )  # because the last number is not counted, so ::1 means no space\n",
    "print ( quotation[::0] )"
   ]
  },
  {
   "cell_type": "code",
   "execution_count": 23,
   "metadata": {},
   "outputs": [
    {
     "name": "stdout",
     "output_type": "stream",
     "text": [
      "i  eae rtri i  ob eeosf gent\n"
     ]
    }
   ],
   "source": [
    "# Extracting every third character, from the sixth character onwards -- the sixth character = quotation[5]\n",
    "\n",
    "quotation = \"Thinking is the hardest work there is, which is probably the reason so few engage in it.\"\n",
    "\n",
    "print ( quotation[5::3] )"
   ]
  },
  {
   "cell_type": "markdown",
   "metadata": {},
   "source": [
    "## Reversing a String\n",
    "\n",
    "A string can be reversed by using ```s[::-1]```."
   ]
  },
  {
   "cell_type": "code",
   "execution_count": 20,
   "metadata": {
    "scrolled": true
   },
   "outputs": [
    {
     "name": "stdout",
     "output_type": "stream",
     "text": [
      ".ti ni egagne wef os nosaer eht ylbaborp si hcihw ,si ereht krow tsedrah eht si gniknihT\n"
     ]
    }
   ],
   "source": [
    "quotation = \"Thinking is the hardest work there is, which is probably the reason so few engage in it.\"\n",
    "\n",
    "print ( quotation[::-1] )"
   ]
  },
  {
   "cell_type": "code",
   "execution_count": 21,
   "metadata": {},
   "outputs": [
    {
     "name": "stdout",
     "output_type": "stream",
     "text": [
      ".in ggewfo oaretybbr ihiw,ieetko sda h iginh\n"
     ]
    }
   ],
   "source": [
    "quotation = \"Thinking is the hardest work there is, which is probably the reason so few engage in it.\"\n",
    "\n",
    "print ( quotation[::-1][::2] )"
   ]
  },
  {
   "cell_type": "code",
   "execution_count": 24,
   "metadata": {},
   "outputs": [
    {
     "name": "stdout",
     "output_type": "stream",
     "text": [
      ".in ggewfo oaretybbr ihiw,ieetko sda h iginh\n"
     ]
    }
   ],
   "source": [
    "print ( \".ti ni egagne wef os nosaer eht ylbaborp si hcihw ,si ereht krow tsedrah eht si gniknihT\"[::2] )"
   ]
  },
  {
   "cell_type": "markdown",
   "metadata": {},
   "source": [
    "#### How is this possible?"
   ]
  },
  {
   "cell_type": "code",
   "execution_count": 25,
   "metadata": {},
   "outputs": [
    {
     "name": "stdout",
     "output_type": "stream",
     "text": [
      "<class 'str'>\n"
     ]
    }
   ],
   "source": [
    "print ( type(quotation[::-1]) )"
   ]
  },
  {
   "cell_type": "markdown",
   "metadata": {},
   "source": [
    "## String Concatenation\n",
    "\n",
    "The + operator combines (or \"concatenates\") two or more strings to make a bigger string.\n",
    "\n",
    "This creates new strings to represent the result, leaving the original strings unchanged.\n",
    "\n",
    "Think of concatenation as gluing two (or more) strings together."
   ]
  },
  {
   "cell_type": "code",
   "execution_count": 26,
   "metadata": {},
   "outputs": [
    {
     "name": "stdout",
     "output_type": "stream",
     "text": [
      "8\n"
     ]
    }
   ],
   "source": [
    "print (3 + 5)   # with numbers, the operator \"+\" adds them together"
   ]
  },
  {
   "cell_type": "code",
   "execution_count": 27,
   "metadata": {},
   "outputs": [
    {
     "name": "stdout",
     "output_type": "stream",
     "text": [
      "Multi-MinistryTaskforce(MTF)\n",
      "Multi-MinistryTaskforce(MTF)\n",
      "Multi-Ministry Taskforce (MTF)\n"
     ]
    }
   ],
   "source": [
    "s1 = \"Multi-Ministry\"   # a string literal\n",
    "s2 = \"Taskforce\"   # a string literal\n",
    "s3 = \"(MTF)\"   # a string literal\n",
    "\n",
    "s4 = s1 + s2 + s3   # with strings, the operator \"+\" concatenates the strings together\n",
    "print ( s4 )\n",
    "\n",
    "print ( \"Multi-Ministry\" + \"Taskforce\" + \"(MTF)\" ) \n",
    "\n",
    "\n",
    "s5 = s1 + \" \" + s2 + \" \" + s3\n",
    "print ( s5 )"
   ]
  },
  {
   "cell_type": "markdown",
   "metadata": {},
   "source": [
    "### Types Cannot be Mixed\n",
    "\n",
    "Concatenation (+) only works with two or more strings.\n",
    "\n",
    "Concatenating a string with any other data type (int, float or complex) will result in an error.\n",
    "\n",
    "The str() function is used to convert intergers or floating-point numbers to a string.  This is called \"type casting\"."
   ]
  },
  {
   "cell_type": "code",
   "execution_count": 28,
   "metadata": {
    "scrolled": false
   },
   "outputs": [
    {
     "ename": "TypeError",
     "evalue": "unsupported operand type(s) for +: 'int' and 'str'",
     "output_type": "error",
     "traceback": [
      "\u001b[1;31m---------------------------------------------------------------------------\u001b[0m",
      "\u001b[1;31mTypeError\u001b[0m                                 Traceback (most recent call last)",
      "Cell \u001b[1;32mIn[28], line 1\u001b[0m\n\u001b[1;32m----> 1\u001b[0m s6 \u001b[38;5;241m=\u001b[39m \u001b[38;5;241m2\u001b[39m \u001b[38;5;241m+\u001b[39m \u001b[38;5;124m\"\u001b[39m\u001b[38;5;124mrabbits\u001b[39m\u001b[38;5;124m\"\u001b[39m\n",
      "\u001b[1;31mTypeError\u001b[0m: unsupported operand type(s) for +: 'int' and 'str'"
     ]
    }
   ],
   "source": [
    "s6 = 2 + \"rabbits\"   # TypeError -- 2 is an integer, and \"rabbits\" is a string -- an incompatible mixture of types!"
   ]
  },
  {
   "cell_type": "code",
   "execution_count": 29,
   "metadata": {},
   "outputs": [
    {
     "name": "stdout",
     "output_type": "stream",
     "text": [
      "2 rabbits\n"
     ]
    }
   ],
   "source": [
    "s7 = str(2) + \" rabbits\"   # the integer 2 has been type casted into the string \"2\"\n",
    "\n",
    "print (s7)"
   ]
  },
  {
   "cell_type": "code",
   "execution_count": 30,
   "metadata": {
    "scrolled": false
   },
   "outputs": [
    {
     "ename": "TypeError",
     "evalue": "can only concatenate str (not \"int\") to str",
     "output_type": "error",
     "traceback": [
      "\u001b[1;31m---------------------------------------------------------------------------\u001b[0m",
      "\u001b[1;31mTypeError\u001b[0m                                 Traceback (most recent call last)",
      "Cell \u001b[1;32mIn[30], line 1\u001b[0m\n\u001b[1;32m----> 1\u001b[0m \u001b[38;5;124m\"\u001b[39m\u001b[38;5;124mFinal Score: \u001b[39m\u001b[38;5;124m\"\u001b[39m \u001b[38;5;241m+\u001b[39m \u001b[38;5;241m6\u001b[39m\n",
      "\u001b[1;31mTypeError\u001b[0m: can only concatenate str (not \"int\") to str"
     ]
    }
   ],
   "source": [
    "\"Final Score: \" + 6   # TypeError -- strings can concatenate only with other strings!!!"
   ]
  },
  {
   "cell_type": "code",
   "execution_count": 31,
   "metadata": {
    "scrolled": true
   },
   "outputs": [
    {
     "data": {
      "text/plain": [
       "'Final Score: 6'"
      ]
     },
     "execution_count": 31,
     "metadata": {},
     "output_type": "execute_result"
    }
   ],
   "source": [
    "\"Final Score: \" + str(6)   # type cast the integer 6 to the string \"6\", then concatenate the two strings"
   ]
  },
  {
   "cell_type": "markdown",
   "metadata": {},
   "source": [
    "### A Relatively Unknown Fact\n",
    "\n",
    "In Python, putting strings literals next to each other automatically concatenates them!\n",
    "\n",
    "This only works with string literal.  It does not work with variables containing strings literals."
   ]
  },
  {
   "cell_type": "code",
   "execution_count": 37,
   "metadata": {
    "scrolled": true
   },
   "outputs": [
    {
     "name": "stdout",
     "output_type": "stream",
     "text": [
      "UrduTamilHindi\n",
      "('Urdu', 'Tamil', 'Hindi')\n",
      "UrduTamilHindi\n"
     ]
    }
   ],
   "source": [
    "odd_string = \"Urdu\" \"Tamil\" \"Hindi\"   # note that there are no commas between the strings!\n",
    "odd_string1 = \"Urdu\", \"Tamil\", \"Hindi\"\n",
    "odd_string2 = \"Urdu\"+\"Tamil\"+\"Hindi\"  # if all of them are string, can omit comma\n",
    "print (odd_string)\n",
    "print (odd_string1)\n",
    "print (odd_string2)"
   ]
  },
  {
   "cell_type": "code",
   "execution_count": 34,
   "metadata": {},
   "outputs": [
    {
     "ename": "SyntaxError",
     "evalue": "invalid syntax (869232627.py, line 3)",
     "output_type": "error",
     "traceback": [
      "\u001b[1;36m  Cell \u001b[1;32mIn[34], line 3\u001b[1;36m\u001b[0m\n\u001b[1;33m    odd_string = \"Urdu\" language \"Hindi\"\u001b[0m\n\u001b[1;37m                        ^\u001b[0m\n\u001b[1;31mSyntaxError\u001b[0m\u001b[1;31m:\u001b[0m invalid syntax\n"
     ]
    }
   ],
   "source": [
    "language = \"Tamil\"\n",
    "\n",
    "odd_string = \"Urdu\" language \"Hindi\"\n",
    "\n",
    "# this does not work because language is not a string literal\n",
    "# language is a variable!\n",
    "# a SyntaxError results\n",
    "\n",
    "print (odd_string)"
   ]
  },
  {
   "cell_type": "code",
   "execution_count": 38,
   "metadata": {},
   "outputs": [
    {
     "name": "stdout",
     "output_type": "stream",
     "text": [
      "UrduTamilHindi\n"
     ]
    }
   ],
   "source": [
    "language = \"Tamil\"\n",
    "\n",
    "odd_string = \"Urdu\" + language + \"Hindi\"     # this is okay!\n",
    "# if some of them are of different type, must use plus sign\n",
    "\n",
    "print (odd_string)"
   ]
  },
  {
   "cell_type": "markdown",
   "metadata": {},
   "source": [
    "## String Repetition\n",
    "\n",
    "The multiplication operator (\\*) repeats string a given number of times."
   ]
  },
  {
   "cell_type": "code",
   "execution_count": 39,
   "metadata": {},
   "outputs": [
    {
     "name": "stdout",
     "output_type": "stream",
     "text": [
      "15\n"
     ]
    }
   ],
   "source": [
    "print (3 * 5)   # with numbers, the operator \"*\" multiplies the numbers together"
   ]
  },
  {
   "cell_type": "code",
   "execution_count": 40,
   "metadata": {
    "scrolled": true
   },
   "outputs": [
    {
     "name": "stdout",
     "output_type": "stream",
     "text": [
      "Ho! Ho! Ho! \n"
     ]
    }
   ],
   "source": [
    "print (\"Ho! \" * 3)   # with strings, the operator \"*\" repeats the string"
   ]
  },
  {
   "cell_type": "code",
   "execution_count": 41,
   "metadata": {},
   "outputs": [
    {
     "ename": "TypeError",
     "evalue": "can't multiply sequence by non-int of type 'float'",
     "output_type": "error",
     "traceback": [
      "\u001b[1;31m---------------------------------------------------------------------------\u001b[0m",
      "\u001b[1;31mTypeError\u001b[0m                                 Traceback (most recent call last)",
      "Cell \u001b[1;32mIn[41], line 1\u001b[0m\n\u001b[1;32m----> 1\u001b[0m \u001b[38;5;28mprint\u001b[39m (\u001b[38;5;124m\"\u001b[39m\u001b[38;5;124mHo! \u001b[39m\u001b[38;5;124m\"\u001b[39m \u001b[38;5;241m*\u001b[39m \u001b[38;5;241m4.\u001b[39m)\n",
      "\u001b[1;31mTypeError\u001b[0m: can't multiply sequence by non-int of type 'float'"
     ]
    }
   ],
   "source": [
    "print (\"Ho! \" * 4.)   # TypeError -- cannot multiply a string by a floating-point number"
   ]
  },
  {
   "cell_type": "code",
   "execution_count": 42,
   "metadata": {
    "scrolled": true
   },
   "outputs": [
    {
     "ename": "TypeError",
     "evalue": "unsupported operand type(s) for -: 'str' and 'str'",
     "output_type": "error",
     "traceback": [
      "\u001b[1;31m---------------------------------------------------------------------------\u001b[0m",
      "\u001b[1;31mTypeError\u001b[0m                                 Traceback (most recent call last)",
      "Cell \u001b[1;32mIn[42], line 1\u001b[0m\n\u001b[1;32m----> 1\u001b[0m \u001b[38;5;28mprint\u001b[39m (\u001b[38;5;124m\"\u001b[39m\u001b[38;5;124mHo! \u001b[39m\u001b[38;5;124m\"\u001b[39m \u001b[38;5;241m-\u001b[39m \u001b[38;5;124m\"\u001b[39m\u001b[38;5;124m!\u001b[39m\u001b[38;5;124m\"\u001b[39m)\n",
      "\u001b[1;31mTypeError\u001b[0m: unsupported operand type(s) for -: 'str' and 'str'"
     ]
    }
   ],
   "source": [
    "print (\"Ho! \" - \"!\")   # TypeError -- cannot use the minus operator on strings to remove the \"!\" from \"Ho!\""
   ]
  },
  {
   "cell_type": "code",
   "execution_count": 44,
   "metadata": {},
   "outputs": [
    {
     "name": "stdout",
     "output_type": "stream",
     "text": [
      "Santa Clause said: Ho! Ho! Ho! \n"
     ]
    }
   ],
   "source": [
    "# combining string concatenation and string repetition\n",
    "\n",
    "print (\"Santa Clause said: \" + \"Ho! \" * 3)  # minus sign unlike plus sign is not allow to use with string"
   ]
  },
  {
   "cell_type": "markdown",
   "metadata": {},
   "source": [
    "## The in and not in Operators (Membership Test)\n",
    "\n",
    "The in operator checks if something appears anywhere in a string.\n",
    "\n",
    "It returns either Boolean values (either True or False).\n",
    "\n",
    "Note 1: \"in\" is known as a *membership operator*\n",
    "\n",
    "Note 2: The \"partner\" operator of \"in\" is \"not in\"\n",
    "\n",
    "The output of a membership test is a boolean value (True or False)."
   ]
  },
  {
   "cell_type": "code",
   "execution_count": 45,
   "metadata": {
    "scrolled": true
   },
   "outputs": [
    {
     "data": {
      "text/plain": [
       "True"
      ]
     },
     "execution_count": 45,
     "metadata": {},
     "output_type": "execute_result"
    }
   ],
   "source": [
    "\"p\" in \"Singapore\"   # there is a \"p\" in \"Singapore\""
   ]
  },
  {
   "cell_type": "code",
   "execution_count": 46,
   "metadata": {
    "scrolled": true
   },
   "outputs": [
    {
     "data": {
      "text/plain": [
       "False"
      ]
     },
     "execution_count": 46,
     "metadata": {},
     "output_type": "execute_result"
    }
   ],
   "source": [
    "\"P\" in \"Singapore\"   # there is no \"P\" in \"Singapore\"   # little p (\"p\") is not the same as capital p (\"P\")"
   ]
  },
  {
   "cell_type": "code",
   "execution_count": 47,
   "metadata": {},
   "outputs": [
    {
     "data": {
      "text/plain": [
       "True"
      ]
     },
     "execution_count": 47,
     "metadata": {},
     "output_type": "execute_result"
    }
   ],
   "source": [
    "\"Sing\" in \"Singapore\"   # there is a \"Sing\" in \"Singapore\""
   ]
  },
  {
   "cell_type": "code",
   "execution_count": 48,
   "metadata": {},
   "outputs": [
    {
     "data": {
      "text/plain": [
       "False"
      ]
     },
     "execution_count": 48,
     "metadata": {},
     "output_type": "execute_result"
    }
   ],
   "source": [
    "\"sing\" in \"Singapore\"   # there is no \"sing\" in \"Singapore\""
   ]
  },
  {
   "cell_type": "code",
   "execution_count": 49,
   "metadata": {},
   "outputs": [
    {
     "data": {
      "text/plain": [
       "True"
      ]
     },
     "execution_count": 49,
     "metadata": {},
     "output_type": "execute_result"
    }
   ],
   "source": [
    "\"pine\" in \"Philippines\"   # there is a \"pine\" in \"Philippines\""
   ]
  },
  {
   "cell_type": "code",
   "execution_count": 50,
   "metadata": {},
   "outputs": [
    {
     "data": {
      "text/plain": [
       "False"
      ]
     },
     "execution_count": 50,
     "metadata": {},
     "output_type": "execute_result"
    }
   ],
   "source": [
    "\"oak\" in \"Philippines\"   # there is no \"oak\" in \"Philippines\""
   ]
  },
  {
   "cell_type": "markdown",
   "metadata": {},
   "source": [
    "An empty string can always be found in a string."
   ]
  },
  {
   "cell_type": "code",
   "execution_count": 51,
   "metadata": {
    "scrolled": true
   },
   "outputs": [
    {
     "data": {
      "text/plain": [
       "True"
      ]
     },
     "execution_count": 51,
     "metadata": {},
     "output_type": "execute_result"
    }
   ],
   "source": [
    "\"\" in \"Singapore\"   # \"\" is an empty string -- an empty string is a member of any string!"
   ]
  },
  {
   "cell_type": "code",
   "execution_count": 52,
   "metadata": {},
   "outputs": [
    {
     "data": {
      "text/plain": [
       "True"
      ]
     },
     "execution_count": 52,
     "metadata": {},
     "output_type": "execute_result"
    }
   ],
   "source": [
    "\"\" in \"\"   # \"\" is an empty string -- an empty string is a member of any string, including empty strings!"
   ]
  },
  {
   "cell_type": "code",
   "execution_count": 53,
   "metadata": {},
   "outputs": [
    {
     "data": {
      "text/plain": [
       "True"
      ]
     },
     "execution_count": 53,
     "metadata": {},
     "output_type": "execute_result"
    }
   ],
   "source": [
    "\"COBOL\" not in \"Java, C, C++, C#, Pascal, Fortran, BASIC\"   # True, \"COBOL\" is not in the string"
   ]
  },
  {
   "cell_type": "markdown",
   "metadata": {},
   "source": [
    "## Character Class Tests\n",
    "\n",
    "The characters that make up a string can be divided into several categories or \"character classes\".\n",
    "\n",
    "Many times, you will need to test if a character belongs to a class (or category of characters).\n",
    "\n",
    "There are several classes:\n",
    "\n",
    "* alphabetic characters - abcdefghijklmnopqrstuvwxyzABCDEFGHIJKLMNOPQRSTUVWXYZ\n",
    "\n",
    "* lowercase alphabetic characters - abcdefghijklmnopqrstuvwxyz\n",
    "\n",
    "* uppercase alphabetic charcaters - ABCDEFGHIJKLMNOPQRSTUVWXYZ\n",
    "\n",
    "* digit characters - 0123456789\n",
    "\n",
    "* space characters - space ' ', newline '\\n', tab '\\t'\n",
    "\n",
    "The test methods return ```True``` if *all* the characters are in the given class, and ```False``` if not.\n",
    "\n",
    "If a single character does not belong to the class, it will return ```False```."
   ]
  },
  {
   "cell_type": "code",
   "execution_count": 27,
   "metadata": {},
   "outputs": [
    {
     "name": "stdout",
     "output_type": "stream",
     "text": [
      "True\n",
      "True\n"
     ]
    }
   ],
   "source": [
    "print ('a'.isalpha())             # does it belong to the list of alphabetic characters?\n",
    "# isalpha() works for alphabetical both upper and lower\n",
    "print ('A'.isalpha())"
   ]
  },
  {
   "cell_type": "code",
   "execution_count": 2,
   "metadata": {},
   "outputs": [
    {
     "data": {
      "text/plain": [
       "True"
      ]
     },
     "execution_count": 2,
     "metadata": {},
     "output_type": "execute_result"
    }
   ],
   "source": [
    "'abc'.isalpha()           # do all three characters belong to the list of alphabetic characters?"
   ]
  },
  {
   "cell_type": "code",
   "execution_count": 3,
   "metadata": {},
   "outputs": [
    {
     "data": {
      "text/plain": [
       "False"
      ]
     },
     "execution_count": 3,
     "metadata": {},
     "output_type": "execute_result"
    }
   ],
   "source": [
    "'$abc'.isalpha()          # \"$\" does not belong to alphabetic characters"
   ]
  },
  {
   "cell_type": "code",
   "execution_count": 4,
   "metadata": {},
   "outputs": [
    {
     "name": "stdout",
     "output_type": "stream",
     "text": [
      "False\n"
     ]
    }
   ],
   "source": [
    "string = '$abc'\n",
    "\n",
    "print (string.isalpha())"
   ]
  },
  {
   "cell_type": "code",
   "execution_count": 5,
   "metadata": {},
   "outputs": [
    {
     "data": {
      "text/plain": [
       "True"
      ]
     },
     "execution_count": 5,
     "metadata": {},
     "output_type": "execute_result"
    }
   ],
   "source": [
    "'abc'.islower()           # do all three characters belong to the list of lowercase characters?"
   ]
  },
  {
   "cell_type": "code",
   "execution_count": 6,
   "metadata": {
    "scrolled": true
   },
   "outputs": [
    {
     "data": {
      "text/plain": [
       "False"
      ]
     },
     "execution_count": 6,
     "metadata": {},
     "output_type": "execute_result"
    }
   ],
   "source": [
    "'Abc'.islower()           # \"A\" does not belong to alphabetic characters"
   ]
  },
  {
   "cell_type": "code",
   "execution_count": 7,
   "metadata": {},
   "outputs": [
    {
     "data": {
      "text/plain": [
       "True"
      ]
     },
     "execution_count": 7,
     "metadata": {},
     "output_type": "execute_result"
    }
   ],
   "source": [
    "'ABC'.isupper()           # do all three characters belong to the list of uppercase characters?"
   ]
  },
  {
   "cell_type": "code",
   "execution_count": 28,
   "metadata": {
    "scrolled": false
   },
   "outputs": [
    {
     "data": {
      "text/plain": [
       "True"
      ]
     },
     "execution_count": 28,
     "metadata": {},
     "output_type": "execute_result"
    }
   ],
   "source": [
    "\"\\u03A3\".isalpha()        # 03A3 refers to the (Greek) capital sigma sign\n",
    "# the greek alpha is a alphabetic character, not separate as u03A3, there is a \\u"
   ]
  },
  {
   "cell_type": "code",
   "execution_count": 9,
   "metadata": {
    "scrolled": true
   },
   "outputs": [
    {
     "data": {
      "text/plain": [
       "True"
      ]
     },
     "execution_count": 9,
     "metadata": {},
     "output_type": "execute_result"
    }
   ],
   "source": [
    "\"6\".isdigit()"
   ]
  },
  {
   "cell_type": "code",
   "execution_count": 10,
   "metadata": {},
   "outputs": [
    {
     "data": {
      "text/plain": [
       "True"
      ]
     },
     "execution_count": 10,
     "metadata": {},
     "output_type": "execute_result"
    }
   ],
   "source": [
    "\"612\".isdigit()"
   ]
  },
  {
   "cell_type": "code",
   "execution_count": 29,
   "metadata": {},
   "outputs": [
    {
     "data": {
      "text/plain": [
       "False"
      ]
     },
     "execution_count": 29,
     "metadata": {},
     "output_type": "execute_result"
    }
   ],
   "source": [
    "\"6.12\".isdigit()          # isdigit() is super strict and does not even allow the decimal point\n",
    "# the decimal point make is not a digit"
   ]
  },
  {
   "cell_type": "code",
   "execution_count": 34,
   "metadata": {},
   "outputs": [
    {
     "data": {
      "text/plain": [
       "True"
      ]
     },
     "execution_count": 34,
     "metadata": {},
     "output_type": "execute_result"
    }
   ],
   "source": [
    "\"6\".isdigit()"
   ]
  },
  {
   "cell_type": "code",
   "execution_count": 35,
   "metadata": {},
   "outputs": [
    {
     "data": {
      "text/plain": [
       "False"
      ]
     },
     "execution_count": 35,
     "metadata": {},
     "output_type": "execute_result"
    }
   ],
   "source": [
    "\"12.23\".isdecimal()"
   ]
  },
  {
   "cell_type": "code",
   "execution_count": 37,
   "metadata": {},
   "outputs": [
    {
     "data": {
      "text/plain": [
       "False"
      ]
     },
     "execution_count": 37,
     "metadata": {},
     "output_type": "execute_result"
    }
   ],
   "source": [
    "\"12.23\".isnumeric()"
   ]
  },
  {
   "cell_type": "code",
   "execution_count": 31,
   "metadata": {},
   "outputs": [
    {
     "data": {
      "text/plain": [
       "True"
      ]
     },
     "execution_count": 31,
     "metadata": {},
     "output_type": "execute_result"
    }
   ],
   "source": [
    "\"12345\".isdecimal()"
   ]
  },
  {
   "cell_type": "code",
   "execution_count": 32,
   "metadata": {},
   "outputs": [
    {
     "data": {
      "text/plain": [
       "True"
      ]
     },
     "execution_count": 32,
     "metadata": {},
     "output_type": "execute_result"
    }
   ],
   "source": [
    "\"12345\".isnumeric()"
   ]
  },
  {
   "cell_type": "code",
   "execution_count": 33,
   "metadata": {},
   "outputs": [
    {
     "data": {
      "text/plain": [
       "True"
      ]
     },
     "execution_count": 33,
     "metadata": {},
     "output_type": "execute_result"
    }
   ],
   "source": [
    "\"a12\".islower()"
   ]
  },
  {
   "cell_type": "code",
   "execution_count": 16,
   "metadata": {},
   "outputs": [
    {
     "data": {
      "text/plain": [
       "True"
      ]
     },
     "execution_count": 16,
     "metadata": {},
     "output_type": "execute_result"
    }
   ],
   "source": [
    "\"AIDS\".isupper()"
   ]
  },
  {
   "cell_type": "code",
   "execution_count": 38,
   "metadata": {
    "scrolled": true
   },
   "outputs": [
    {
     "data": {
      "text/plain": [
       "False"
      ]
     },
     "execution_count": 38,
     "metadata": {},
     "output_type": "execute_result"
    }
   ],
   "source": [
    "\"National University of Singapore\".istitle()   # False because of the letter \"o\" in the word \"of\"\n",
    "# beware the o if Of, must be capital to make it true"
   ]
  },
  {
   "cell_type": "code",
   "execution_count": 18,
   "metadata": {},
   "outputs": [
    {
     "data": {
      "text/plain": [
       "True"
      ]
     },
     "execution_count": 18,
     "metadata": {},
     "output_type": "execute_result"
    }
   ],
   "source": [
    "\"National University Of Singapore\".istitle()"
   ]
  },
  {
   "cell_type": "code",
   "execution_count": 19,
   "metadata": {},
   "outputs": [
    {
     "data": {
      "text/plain": [
       "True"
      ]
     },
     "execution_count": 19,
     "metadata": {},
     "output_type": "execute_result"
    }
   ],
   "source": [
    "\" \".isspace()   # obviously a space"
   ]
  },
  {
   "cell_type": "code",
   "execution_count": 39,
   "metadata": {},
   "outputs": [
    {
     "data": {
      "text/plain": [
       "True"
      ]
     },
     "execution_count": 39,
     "metadata": {},
     "output_type": "execute_result"
    }
   ],
   "source": [
    "\"          \\t\\n\\n\\n\\n\\t\".isspace()   # newline and tab characters are also spaces\n",
    "# the \\ is like the ending then t is tab, n is newline, all are spaces"
   ]
  },
  {
   "cell_type": "code",
   "execution_count": 41,
   "metadata": {},
   "outputs": [
    {
     "data": {
      "text/plain": [
       "False"
      ]
     },
     "execution_count": 41,
     "metadata": {},
     "output_type": "execute_result"
    }
   ],
   "source": [
    "\"\".isspace()   # an empty string does not contain any characters (space is a character)\n",
    "# empty string, no space is not a space"
   ]
  },
  {
   "cell_type": "code",
   "execution_count": 43,
   "metadata": {},
   "outputs": [
    {
     "data": {
      "text/plain": [
       "True"
      ]
     },
     "execution_count": 43,
     "metadata": {},
     "output_type": "execute_result"
    }
   ],
   "source": [
    "\"abc\".isalnum() # works for either one"
   ]
  },
  {
   "cell_type": "code",
   "execution_count": 22,
   "metadata": {
    "scrolled": true
   },
   "outputs": [
    {
     "data": {
      "text/plain": [
       "True"
      ]
     },
     "execution_count": 22,
     "metadata": {},
     "output_type": "execute_result"
    }
   ],
   "source": [
    "\"123abc\".isalnum()   # alphabetic or numeric"
   ]
  },
  {
   "cell_type": "code",
   "execution_count": 44,
   "metadata": {},
   "outputs": [
    {
     "data": {
      "text/plain": [
       "False"
      ]
     },
     "execution_count": 44,
     "metadata": {},
     "output_type": "execute_result"
    }
   ],
   "source": [
    "\"123 abc\".isalnum()   # alphabetic or numeric # no space, because space is not alphabetic nor numeric?"
   ]
  },
  {
   "cell_type": "code",
   "execution_count": 24,
   "metadata": {},
   "outputs": [
    {
     "data": {
      "text/plain": [
       "False"
      ]
     },
     "execution_count": 24,
     "metadata": {},
     "output_type": "execute_result"
    }
   ],
   "source": [
    "\"123#abc\".isalnum()   # the \"#\" character is neither alphabetic nor numeric"
   ]
  },
  {
   "cell_type": "markdown",
   "metadata": {},
   "source": [
    "## Summary\n",
    "\n",
    "In this section, we covered the following string methods.\n",
    "\n",
    "* ```isalpha()```\n",
    "* ```islower()```\n",
    "* ```isupper()```\n",
    "* ```isdecimal()```\n",
    "* ```isdigit()```\n",
    "* ```istitle()```\n",
    "* ```isspace()```\n",
    "* ```isalnum()```\n",
    "\n",
    "They test whether the characters that make up a string belong to a specific class of characters."
   ]
  },
  {
   "cell_type": "code",
   "execution_count": 45,
   "metadata": {},
   "outputs": [
    {
     "name": "stdout",
     "output_type": "stream",
     "text": [
      "['False', 'None', 'True', 'and', 'as', 'assert', 'async', 'await', 'break', 'class', 'continue', 'def', 'del', 'elif', 'else', 'except', 'finally', 'for', 'from', 'global', 'if', 'import', 'in', 'is', 'lambda', 'nonlocal', 'not', 'or', 'pass', 'raise', 'return', 'try', 'while', 'with', 'yield']\n"
     ]
    }
   ],
   "source": [
    "# Remember this from the first session?\n",
    "# These are words that cannot be used as variable names -- they are known as Python keywords\n",
    "\n",
    "import keyword\n",
    "\n",
    "print ( keyword.kwlist )"
   ]
  },
  {
   "cell_type": "code",
   "execution_count": 48,
   "metadata": {},
   "outputs": [
    {
     "name": "stdout",
     "output_type": "stream",
     "text": [
      "Enter a string: False\n",
      "False\n",
      "<class 'str'>\n",
      "False is a keyword: True\n"
     ]
    }
   ],
   "source": [
    "# A test can be performed if a string is one of the Python keywords.\n",
    "# Remember that Python keywords cannot be used as variable names.\n",
    "\n",
    "import keyword\n",
    "\n",
    "s = input(\"Enter a string: \")\n",
    "\n",
    "print ( s )\n",
    "print ( type(s) )\n",
    "\n",
    "iskey = keyword.iskeyword(s) # function the iskeyword() module on s, return  in boolean value\n",
    "print (s,'is a keyword:', iskey)"
   ]
  },
  {
   "cell_type": "markdown",
   "metadata": {},
   "source": [
    "## Changing Case\n",
    "\n",
    "The ```lower()``` method returns a new version of the string where each character is converted to its lowercase form, so 'A' becomes 'a', 'B' becomes 'b', etc.  Characters like '$' remain unchanged.  The original string is unchanged.  The new string has to be stored in a variable.\n",
    "\n",
    "Conversely, the ```upper()``` method returns an uppercase version of the string."
   ]
  },
  {
   "cell_type": "code",
   "execution_count": 49,
   "metadata": {
    "scrolled": true
   },
   "outputs": [
    {
     "name": "stdout",
     "output_type": "stream",
     "text": [
      "association of southeast asian nations (asean)\n",
      "association of southeast asian nations (asean)\n",
      "\n",
      "ASSOCIATION OF SOUTHEAST ASIAN NATIONS (ASEAN)\n",
      "association of southeast asian nations (asean); ASSOCIATION OF SOUTHEAST ASIAN NATIONS (ASEAN)\n"
     ]
    }
   ],
   "source": [
    "organisation = \"Association of Southeast Asian Nations (ASEAN)\"\n",
    "\n",
    "print ( organisation.lower() )   # variable + module fundtion of variable\n",
    "print (\"Association of Southeast Asian Nations (ASEAN)\".lower() )\n",
    "\n",
    "\n",
    "print ()\n",
    "print ( organisation.upper() )\n",
    "print ( organisation.lower()+\"; \"+organisation.upper() )"
   ]
  },
  {
   "cell_type": "markdown",
   "metadata": {},
   "source": [
    "If you need to perform further operations, then the new string has to be stored in a variable."
   ]
  },
  {
   "cell_type": "code",
   "execution_count": 50,
   "metadata": {},
   "outputs": [
    {
     "name": "stdout",
     "output_type": "stream",
     "text": [
      "association of southeast asian nations (asean)\n",
      "ASSOCIATION OF SOUTHEAST ASIAN NATIONS (ASEAN)\n",
      "association of southeast asian nations (asean)ASSOCIATION OF SOUTHEAST ASIAN NATIONS (ASEAN)\n"
     ]
    }
   ],
   "source": [
    "organisation = \"Association of Southeast Asian Nations (ASEAN)\"\n",
    "\n",
    "s1 = organisation.lower()\n",
    "s2 = organisation.upper()\n",
    "\n",
    "print ( s1 )\n",
    "print ( s2 )\n",
    "\n",
    "big_s = s1 + s2      # string concatenation\n",
    "\n",
    "print ( big_s )\n",
    "\n",
    "# after this, you can use the variables s1 and s2 to perform other things ..."
   ]
  },
  {
   "cell_type": "code",
   "execution_count": 51,
   "metadata": {
    "scrolled": true
   },
   "outputs": [
    {
     "name": "stdout",
     "output_type": "stream",
     "text": [
      "I'm feeling a little hungry right now.\n"
     ]
    }
   ],
   "source": [
    "sentence = \"I'M FEELING A LITTLE HUNGRY RIGHT NOW.\"\n",
    "\n",
    "print ( sentence.capitalize() )   # .capitalize() is to make the first word capital"
   ]
  },
  {
   "cell_type": "code",
   "execution_count": 54,
   "metadata": {},
   "outputs": [
    {
     "name": "stdout",
     "output_type": "stream",
     "text": [
      "Nanyang Technological University\n"
     ]
    }
   ],
   "source": [
    "university_name = \"nanyang technological university\"\n",
    "\n",
    "print ( university_name.title() )  # .title() is to make the beginning of each word capital"
   ]
  },
  {
   "cell_type": "code",
   "execution_count": 53,
   "metadata": {},
   "outputs": [
    {
     "name": "stdout",
     "output_type": "stream",
     "text": [
      "THIS BAG COSTS S$123.45\n"
     ]
    }
   ],
   "source": [
    "sentence = \"This bag costs S$123.45\"\n",
    "\n",
    "print ( sentence.upper() )"
   ]
  },
  {
   "cell_type": "markdown",
   "metadata": {},
   "source": [
    "Since the ```upper()```, ```lower()```, ```title()``` and ```capitalize()``` string methods return strings, you can call string methods on those returned string values as well.  Expressions that do this look like they have been *chained* together."
   ]
  },
  {
   "cell_type": "code",
   "execution_count": 59,
   "metadata": {},
   "outputs": [
    {
     "name": "stdout",
     "output_type": "stream",
     "text": [
      "WKWSCI\n",
      "wkwsci\n",
      "WKWSCI\n",
      "Wkwsci\n"
     ]
    }
   ],
   "source": [
    "print (\"wkwsci\".upper())\n",
    "print (\"wkwsci\".upper().lower())\n",
    "print (\"wkwsci\".upper().lower().upper())\n",
    "print (\"wkwsci\".upper().lower().upper().title())  #function string-> function sting -->..."
   ]
  },
  {
   "cell_type": "markdown",
   "metadata": {},
   "source": [
    "#### How is this possible?"
   ]
  },
  {
   "cell_type": "code",
   "execution_count": 60,
   "metadata": {},
   "outputs": [
    {
     "name": "stdout",
     "output_type": "stream",
     "text": [
      "<class 'str'>\n",
      "<class 'str'>\n",
      "<class 'str'>\n",
      "<class 'str'>\n"
     ]
    }
   ],
   "source": [
    "print ( type(\"wkwsci\".upper()) )\n",
    "print ( type(\"wkwsci\".upper().lower()) )\n",
    "print ( type(\"wkwsci\".upper().lower().upper()) )\n",
    "print ( type(\"wkwsci\".upper().lower().upper().title()) )"
   ]
  },
  {
   "cell_type": "markdown",
   "metadata": {},
   "source": [
    "#### Rarer String Methods: ```.swapcase()``` and ```.casefold()```"
   ]
  },
  {
   "cell_type": "code",
   "execution_count": 67,
   "metadata": {},
   "outputs": [
    {
     "name": "stdout",
     "output_type": "stream",
     "text": [
      "pYTHON\n",
      "ASDppAF\n"
     ]
    }
   ],
   "source": [
    "programming_language = \"Python\"\n",
    "\n",
    "print ( programming_language.swapcase() )  # not necessary to define \"python\", but more easy to see\n",
    "\n",
    "print (\"asdPPaf\".swapcase())\n",
    "#.swapcase()must come at the back"
   ]
  },
  {
   "cell_type": "code",
   "execution_count": 70,
   "metadata": {},
   "outputs": [
    {
     "name": "stdout",
     "output_type": "stream",
     "text": [
      "asscde\n",
      "\n",
      "außen\n",
      "\n"
     ]
    },
    {
     "ename": "NameError",
     "evalue": "name 'swapcase' is not defined",
     "output_type": "error",
     "traceback": [
      "\u001b[1;31m---------------------------------------------------------------------------\u001b[0m",
      "\u001b[1;31mNameError\u001b[0m                                 Traceback (most recent call last)",
      "Cell \u001b[1;32mIn[70], line 10\u001b[0m\n\u001b[0;32m      7\u001b[0m \u001b[38;5;28mprint\u001b[39m ( alphabet\u001b[38;5;241m.\u001b[39mlower() )\n\u001b[0;32m      9\u001b[0m \u001b[38;5;28mprint\u001b[39m ()\n\u001b[1;32m---> 10\u001b[0m swapcase(sdf)\n",
      "\u001b[1;31mNameError\u001b[0m: name 'swapcase' is not defined"
     ]
    }
   ],
   "source": [
    "alphabet = 'aßcde'\n",
    "print ( alphabet.casefold() )\n",
    "\n",
    "print ()\n",
    "\n",
    "alphabet = 'außen'\n",
    "print ( alphabet.lower() )\n",
    "\n",
    "print ()\n",
    "swapcase(sdf)"
   ]
  },
  {
   "cell_type": "markdown",
   "metadata": {},
   "source": [
    "## Summary\n",
    "\n",
    "The methods in this section returns a new version of the string with specific characters changed.\n",
    "\n",
    "* ```lower()```\n",
    "* ```upper()```\n",
    "* ```title()```\n",
    "* ```capitalize()```"
   ]
  },
  {
   "cell_type": "markdown",
   "metadata": {},
   "source": [
    "## The ```.startswith()``` and ```.endswith()``` String Methods\n",
    "\n",
    "These are convenient functions that return either True or False (Boolean values) depending on what appears at one end of a string.\n",
    "\n",
    "One example is when you need to check for a particular file type, e.g., a file extension with '.jpeg'.\n",
    "\n",
    "* ```s.startswith(x)``` -- True if string s starts with string x\n",
    "* ```s.endswith(x)``` -- True if string s end with string x\n",
    "\n",
    "These methods return a boolean value (either True or False)."
   ]
  },
  {
   "cell_type": "code",
   "execution_count": 88,
   "metadata": {},
   "outputs": [
    {
     "name": "stdout",
     "output_type": "stream",
     "text": [
      "True\n",
      "False\n"
     ]
    }
   ],
   "source": [
    "print('GraduationFamilyPortrait.jpeg'.startswith('Graduation'))\n",
    "# .startswith（）return boolean value\n",
    "\n",
    "print(\"Graduation FamilyPortrait.jpeg\".startswith(\"Family\"))"
   ]
  },
  {
   "cell_type": "code",
   "execution_count": 72,
   "metadata": {},
   "outputs": [
    {
     "data": {
      "text/plain": [
       "True"
      ]
     },
     "execution_count": 72,
     "metadata": {},
     "output_type": "execute_result"
    }
   ],
   "source": [
    "'GraduationFamilyPortrait.jpeg'.startswith('Family', 10)\n",
    "#the 10 is starts with index 10, starts with family"
   ]
  },
  {
   "cell_type": "code",
   "execution_count": 73,
   "metadata": {},
   "outputs": [
    {
     "data": {
      "text/plain": [
       "True"
      ]
     },
     "execution_count": 73,
     "metadata": {},
     "output_type": "execute_result"
    }
   ],
   "source": [
    "'GraduationFamilyPortrait.jpeg'.startswith('Portrait', 16)"
   ]
  },
  {
   "cell_type": "code",
   "execution_count": 74,
   "metadata": {},
   "outputs": [
    {
     "data": {
      "text/plain": [
       "False"
      ]
     },
     "execution_count": 74,
     "metadata": {},
     "output_type": "execute_result"
    }
   ],
   "source": [
    "'GraduationFamilyPortrait.jpeg'.startswith('Wedding')"
   ]
  },
  {
   "cell_type": "code",
   "execution_count": 75,
   "metadata": {},
   "outputs": [
    {
     "ename": "NameError",
     "evalue": "name 'speech' is not defined",
     "output_type": "error",
     "traceback": [
      "\u001b[1;31m---------------------------------------------------------------------------\u001b[0m",
      "\u001b[1;31mNameError\u001b[0m                                 Traceback (most recent call last)",
      "Cell \u001b[1;32mIn[75], line 1\u001b[0m\n\u001b[1;32m----> 1\u001b[0m speech\u001b[38;5;241m.\u001b[39mstartswith(\u001b[38;5;124m'\u001b[39m\u001b[38;5;124mWedding\u001b[39m\u001b[38;5;124m'\u001b[39m)\n",
      "\u001b[1;31mNameError\u001b[0m: name 'speech' is not defined"
     ]
    }
   ],
   "source": [
    "speech.startswith('Wedding')"
   ]
  },
  {
   "cell_type": "markdown",
   "metadata": {},
   "source": [
    "### Testing for a Specific Filetype Using endswith\n",
    "\n",
    "The .endswith() string method can be used to test for file types."
   ]
  },
  {
   "cell_type": "code",
   "execution_count": 76,
   "metadata": {
    "scrolled": true
   },
   "outputs": [
    {
     "data": {
      "text/plain": [
       "True"
      ]
     },
     "execution_count": 76,
     "metadata": {},
     "output_type": "execute_result"
    }
   ],
   "source": [
    "'GraduationFamilyPortrait.jpeg'.endswith('.jpeg')   # testing for jpeg files"
   ]
  },
  {
   "cell_type": "code",
   "execution_count": 77,
   "metadata": {
    "scrolled": true
   },
   "outputs": [
    {
     "data": {
      "text/plain": [
       "False"
      ]
     },
     "execution_count": 77,
     "metadata": {},
     "output_type": "execute_result"
    }
   ],
   "source": [
    "'GraduationFamilyPortrait.jpeg'.endswith('.pdf')   # testing for pdf files"
   ]
  },
  {
   "cell_type": "code",
   "execution_count": 78,
   "metadata": {},
   "outputs": [
    {
     "data": {
      "text/plain": [
       "False"
      ]
     },
     "execution_count": 78,
     "metadata": {},
     "output_type": "execute_result"
    }
   ],
   "source": [
    "'GraduationFamilyPortrait.JPEG'.endswith('.jpeg')   # case-sensitive -- \"JPEG\" is not the same as \"jpeg\"\n",
    "# string, must be exact, if not they are different thing"
   ]
  },
  {
   "cell_type": "code",
   "execution_count": 89,
   "metadata": {},
   "outputs": [
    {
     "data": {
      "text/plain": [
       "'graduationfamilyportrait.jpeg'"
      ]
     },
     "execution_count": 89,
     "metadata": {},
     "output_type": "execute_result"
    }
   ],
   "source": [
    "'GraduationFamilyPortrait.JPEG'.lower()"
   ]
  },
  {
   "cell_type": "code",
   "execution_count": 90,
   "metadata": {
    "scrolled": true
   },
   "outputs": [
    {
     "data": {
      "text/plain": [
       "True"
      ]
     },
     "execution_count": 90,
     "metadata": {},
     "output_type": "execute_result"
    }
   ],
   "source": [
    "'GraduationFamilyPortrait.JPEG'.lower().endswith('.jpeg')   # case-sensitive -- this is the solution\n",
    "# lower the restriction on case sensitivity. you lower then, ends with \".jpeg\"\n",
    "# or upper then, ends with .JPEG"
   ]
  },
  {
   "cell_type": "code",
   "execution_count": 91,
   "metadata": {},
   "outputs": [
    {
     "data": {
      "text/plain": [
       "True"
      ]
     },
     "execution_count": 91,
     "metadata": {},
     "output_type": "execute_result"
    }
   ],
   "source": [
    "'GraduationFamilyPortrait.JPEG'.lower().endswith('peg')  # does not matter how many character you enter"
   ]
  },
  {
   "cell_type": "code",
   "execution_count": 80,
   "metadata": {},
   "outputs": [
    {
     "data": {
      "text/plain": [
       "True"
      ]
     },
     "execution_count": 80,
     "metadata": {},
     "output_type": "execute_result"
    }
   ],
   "source": [
    "'GraduationFamilyPortrait.jpeg'.endswith('.jpeg', 20) # 20 is the beginning to check letter"
   ]
  },
  {
   "cell_type": "code",
   "execution_count": 81,
   "metadata": {},
   "outputs": [
    {
     "data": {
      "text/plain": [
       "True"
      ]
     },
     "execution_count": 81,
     "metadata": {},
     "output_type": "execute_result"
    }
   ],
   "source": [
    "'GraduationFamilyPortrait.jpeg'.endswith('Portrait', 10, 24) # check up to  23"
   ]
  },
  {
   "cell_type": "markdown",
   "metadata": {},
   "source": [
    "## The ```.removeprefix()``` and ```.removesuffix()``` String Methods\n",
    "\n",
    "These string methods are used to remove the prefix and suffix from strings respectively."
   ]
  },
  {
   "cell_type": "code",
   "execution_count": 93,
   "metadata": {},
   "outputs": [
    {
     "data": {
      "text/plain": [
       "'abcabcWee Kim Wee School of Communication and Informationabcabcabcabcabc'"
      ]
     },
     "execution_count": 93,
     "metadata": {},
     "output_type": "execute_result"
    }
   ],
   "source": [
    "\"abcabcabcabcabcWee Kim Wee School of Communication and Informationabcabcabcabcabc\".removeprefix(\"abcabcabc\")\n",
    "# remove the front"
   ]
  },
  {
   "cell_type": "code",
   "execution_count": 83,
   "metadata": {},
   "outputs": [
    {
     "data": {
      "text/plain": [
       "'abcabcabcabcabcWee Kim Wee School of Communication and Informationabcabcabcabc'"
      ]
     },
     "execution_count": 83,
     "metadata": {},
     "output_type": "execute_result"
    }
   ],
   "source": [
    "\"abcabcabcabcabcWee Kim Wee School of Communication and Informationabcabcabcabcabc\".removesuffix(\"abc\")\n",
    "# remove the back"
   ]
  },
  {
   "cell_type": "markdown",
   "metadata": {},
   "source": [
    "## The String ```.find()``` Method\n",
    "\n",
    "The string method ```find(x)``` searches a string from left to right, returning the int index where string x appears, or -1 if not found.\n",
    "\n",
    "Use ```find()``` to compute the index where a substring first appears."
   ]
  },
  {
   "cell_type": "code",
   "execution_count": 94,
   "metadata": {
    "scrolled": true
   },
   "outputs": [
    {
     "name": "stdout",
     "output_type": "stream",
     "text": [
      "12\n",
      "25\n",
      "-1\n",
      "-1\n"
     ]
    }
   ],
   "source": [
    "entity = \"Association of Southeast Asian Nations (ASEAN)\"\n",
    "\n",
    "print( entity.find('of') )\n",
    "print( entity.find('Asian') )\n",
    "print( entity.find('NATIONS') )       # string 'NATIONS' cannot be found (a value of -1 will be returned)\n",
    "print( entity.find('butbut') ) \n",
    "\n",
    "#.find() / \"string\".find(), give the index of the first word found\n",
    "#case sentsitive, -1 if not found"
   ]
  },
  {
   "cell_type": "markdown",
   "metadata": {},
   "source": [
    "Use rfind() to compute the index where a substring first appears from the end of the string."
   ]
  },
  {
   "cell_type": "code",
   "execution_count": 95,
   "metadata": {
    "scrolled": true
   },
   "outputs": [
    {
     "name": "stdout",
     "output_type": "stream",
     "text": [
      "25\n",
      "45\n",
      "-1\n"
     ]
    }
   ],
   "source": [
    "entity = \"Association of Southeast Asian and Northeast Asian Nations (ASEAN)\"   # the word \"Asian\" appears twice!\n",
    "\n",
    "print( entity.find('Asian') )         # find --> search from front\n",
    "print( entity.rfind('Asian') )        # rfind --> search from the back, but report the index counting starts from the front\n",
    "print( entity.rfind('NATIONS') )      # string 'NATIONS' cannot be found"
   ]
  },
  {
   "cell_type": "markdown",
   "metadata": {},
   "source": [
    "## Strip Whitespace\n",
    "\n",
    "The string methods ```lstrip()```, ```rstrip()``` and ```strip()``` returns a version of the string with the whitespace characters (space, tab, newline) from the very start and very end of the string all removed.\n",
    "\n",
    "It can be used to clean up strings parsed out of a file or read from a user in a dialog box."
   ]
  },
  {
   "cell_type": "code",
   "execution_count": 96,
   "metadata": {},
   "outputs": [
    {
     "name": "stdout",
     "output_type": "stream",
     "text": [
      "Before:\n",
      "*    Wee Kim Wee School of        Communication and Information (WKWSCI)                     *\n",
      "90\n",
      "\n",
      "After:\n",
      "* Wee Kim Wee School of        Communication and Information (WKWSCI)                     *\n",
      "87\n"
     ]
    }
   ],
   "source": [
    "name = \"   Wee Kim Wee School of        Communication and Information (WKWSCI)                    \"\n",
    "\n",
    "print (\"Before:\")\n",
    "print ( \"*\", name, \"*\" )    # by default they are separate with an empty space\n",
    "print ( len(name) )\n",
    "print ()\n",
    "print ( \"After:\" )\n",
    "clean_name = name.lstrip()  # important, l in lstrip stands for left\n",
    "                            # \"string\".lstrip（）--> cuts the white space in front\n",
    "print ( \"*\", clean_name, \"*\" )   # notice that the whitespace in the middle of the string is left untouched\n",
    "print ( len(clean_name) )"
   ]
  },
  {
   "cell_type": "code",
   "execution_count": 97,
   "metadata": {
    "scrolled": true
   },
   "outputs": [
    {
     "name": "stdout",
     "output_type": "stream",
     "text": [
      "Before:\n",
      "*   Wee Kim Wee School of        Communication and Information (WKWSCI)                    *\n",
      "90\n",
      "\n",
      "After:\n",
      "*Wee Kim Wee School of        Communication and Information (WKWSCI)                    *\n",
      "87\n"
     ]
    }
   ],
   "source": [
    "name = \"   Wee Kim Wee School of        Communication and Information (WKWSCI)                    \"\n",
    "\n",
    "print (\"Before:\")\n",
    "print ( \"*\", name, \"*\", sep = \"\")     # to see clearer, u set separator as empty space, result same as above\n",
    "print ( len(name) )\n",
    "print ()\n",
    "print ( \"After:\" )\n",
    "clean_name = name.lstrip()\n",
    "print ( \"*\", clean_name, \"*\", sep = \"\")   # notice that the whitespace in the middle of the string is left untouched\n",
    "print ( len(clean_name) )"
   ]
  },
  {
   "cell_type": "code",
   "execution_count": 101,
   "metadata": {},
   "outputs": [
    {
     "name": "stdout",
     "output_type": "stream",
     "text": [
      "Before:\n",
      "*   Wee Kim Wee School of        Communication and Information (WKWSCI)                    *\n",
      "90\n",
      "\n",
      "After:\n",
      "*   Wee Kim Wee School of        Communication and Information (WKWSCI)*\n",
      "70\n"
     ]
    }
   ],
   "source": [
    "name = \"   Wee Kim Wee School of        Communication and Information (WKWSCI)                    \"\n",
    "\n",
    "print (\"Before:\")\n",
    "print ( \"*\", name, \"*\", sep = \"\" )\n",
    "print ( len(name) )\n",
    "print ()\n",
    "print ( \"After:\" )                                # specifically from right\n",
    "clean_name = name.rstrip()\n",
    "print ( \"*\", clean_name, \"*\", sep = \"\" )                # notice that the whitespace in the middle of the string is left untouched\n",
    "print ( len(clean_name) )"
   ]
  },
  {
   "cell_type": "code",
   "execution_count": 102,
   "metadata": {
    "scrolled": false
   },
   "outputs": [
    {
     "name": "stdout",
     "output_type": "stream",
     "text": [
      "Before:\n",
      "*   Wee Kim Wee School of        Communication and Information (WKWSCI)                    *\n",
      "90\n",
      "\n",
      "After:\n",
      "*Wee Kim Wee School of        Communication and Information (WKWSCI)*\n",
      "67\n"
     ]
    }
   ],
   "source": [
    "name = \"   Wee Kim Wee School of        Communication and Information (WKWSCI)                    \"\n",
    "\n",
    "print (\"Before:\")\n",
    "print ( \"*\", name, \"*\", sep = \"\" )\n",
    "print ( len(name) )\n",
    "print ()\n",
    "print ( \"After:\" )\n",
    "clean_name = name.strip()                          #.strip() applies to both side\n",
    "print ( \"*\", clean_name, \"*\", sep = \"\" )                # notice that the whitespace in the middle of the string is left untouched\n",
    "print ( len(clean_name) )"
   ]
  },
  {
   "cell_type": "markdown",
   "metadata": {},
   "source": [
    "#### Non-space Strips"
   ]
  },
  {
   "cell_type": "code",
   "execution_count": 100,
   "metadata": {},
   "outputs": [
    {
     "name": "stdout",
     "output_type": "stream",
     "text": [
      "Before:\n",
      "*abcbcacbaWee Kim Wee School of Communication and Informationabcbcacba*\n",
      "69\n",
      "\n",
      "After:\n",
      "*abcbcacbaWee Kim Wee School of Communication and Informationabcbcacba*\n",
      "69\n",
      "\n",
      "After:\n",
      "*Wee Kim Wee School of Communication and Informationabcbcacba*\n",
      "60\n",
      "\n",
      "After:\n",
      "*abcbcacbaWee Kim Wee School of Communication and Information*\n",
      "60\n",
      "\n",
      "After:\n",
      "*Wee Kim Wee School of Communication and Information*\n",
      "51\n"
     ]
    }
   ],
   "source": [
    "name = \"abcbcacbaWee Kim Wee School of Communication and Informationabcbcacba\"\n",
    "\n",
    "print (\"Before:\")\n",
    "print ( \"*\", name, \"*\", sep = \"\" )\n",
    "print ( len(name) )\n",
    "print ()\n",
    "print ( \"After:\" )\n",
    "clean_name = name.strip()\n",
    "print ( \"*\", clean_name, \"*\", sep = \"\" )   # notice that the whitespace in the middle of the string is left untouched\n",
    "print ( len(clean_name) )\n",
    "print ()\n",
    "print ( \"After:\" )\n",
    "clean_name = name.lstrip(\"abc\")            ## whats differnece between remove prefix and suffix, ans these only remove one, strip remove all similar\n",
    "print ( \"*\", clean_name, \"*\", sep = \"\" )   # notice that the whitespace in the middle of the string is left untouched\n",
    "print ( len(clean_name) )\n",
    "print ()\n",
    "print ( \"After:\" )\n",
    "clean_name = name.rstrip(\"abc\")\n",
    "print ( \"*\", clean_name, \"*\", sep = \"\" )                # notice that the whitespace in the middle of the string is left untouched\n",
    "print ( len(clean_name) )\n",
    "print ()\n",
    "print ( \"After:\" )\n",
    "clean_name = name.strip(\"abc\")\n",
    "print ( \"*\", clean_name, \"*\", sep = \"\" )                # notice that the whitespace in the middle of the string is left untouched\n",
    "print ( len(clean_name) )"
   ]
  },
  {
   "cell_type": "markdown",
   "metadata": {},
   "source": [
    "## The String ```.replace()``` Method\n",
    "\n",
    "The string method ```replace()``` returns a version of the string where *all* occurrences of old have been replaced by new.\n",
    "\n",
    "The form of the method is:\n",
    "\n",
    "```string.replace(old, new)```\n",
    "\n",
    "It does not pay attention to word boundaries, but just replaces every instance of old in the string with new.\n",
    "\n",
    "Replacing with the empty string effectively deletes the matching strings."
   ]
  },
  {
   "cell_type": "code",
   "execution_count": 103,
   "metadata": {},
   "outputs": [
    {
     "name": "stdout",
     "output_type": "stream",
     "text": [
      "Man in Wrath\n",
      "Man of Wrath\n"
     ]
    }
   ],
   "source": [
    "movie_title = \"Man of Wrath\"\n",
    "\n",
    "print ( movie_title.replace('of','in') )\n",
    "\n",
    "print ( movie_title )       # no change in original string"
   ]
  },
  {
   "cell_type": "code",
   "execution_count": 104,
   "metadata": {},
   "outputs": [
    {
     "name": "stdout",
     "output_type": "stream",
     "text": [
      "Man in Wrath\n"
     ]
    }
   ],
   "source": [
    "movie_title = \"Man of Wrath\"\n",
    "\n",
    "new_movie_title = movie_title.replace('of','in')\n",
    "print ( new_movie_title )\n",
    "\n",
    "# you can do something with the new_movie_title here ..."
   ]
  },
  {
   "cell_type": "code",
   "execution_count": 105,
   "metadata": {},
   "outputs": [
    {
     "name": "stdout",
     "output_type": "stream",
     "text": [
      "Man in Wrath in Singapore\n",
      "Man of Wrath of Singapore\n"
     ]
    }
   ],
   "source": [
    "movie_title = \"Man of Wrath of Singapore\"\n",
    "\n",
    "print ( movie_title.replace('of','in') )            # applies to all of the words, every of\n",
    "\n",
    "print ( movie_title )"
   ]
  },
  {
   "cell_type": "markdown",
   "metadata": {},
   "source": [
    "## Escape Characters\n",
    "\n",
    "A backslash (```\\```) in a string literal in your code \"escapes\" a special char we wish to include in the string, such as a quote or \\n newline. Common backslash escapes:\n",
    "\n",
    "|Character|Meaning|\n",
    "|-|-|\n",
    "|```\\'```|single quote|\n",
    "|```\\\"```|double quote|\n",
    "|```\\\\```  |backslash|\n",
    "|```\\n```|newline|\n",
    "|```\\t```|tab|"
   ]
  },
  {
   "cell_type": "code",
   "execution_count": 106,
   "metadata": {
    "scrolled": true
   },
   "outputs": [
    {
     "name": "stdout",
     "output_type": "stream",
     "text": [
      "\n",
      "The First Line\n",
      "The Second Line\n",
      "The Third Line\n",
      "\n"
     ]
    }
   ],
   "source": [
    "multiline_string = \"\\nThe First Line\\nThe Second Line\\nThe Third Line\\n\"\n",
    "\n",
    "print ( multiline_string )"
   ]
  },
  {
   "cell_type": "code",
   "execution_count": 111,
   "metadata": {},
   "outputs": [
    {
     "ename": "SyntaxError",
     "evalue": "unterminated string literal (detected at line 1) (831412400.py, line 1)",
     "output_type": "error",
     "traceback": [
      "\u001b[1;36m  Cell \u001b[1;32mIn[111], line 1\u001b[1;36m\u001b[0m\n\u001b[1;33m    multiline_string = \"The First Line\u001b[0m\n\u001b[1;37m                       ^\u001b[0m\n\u001b[1;31mSyntaxError\u001b[0m\u001b[1;31m:\u001b[0m unterminated string literal (detected at line 1)\n"
     ]
    }
   ],
   "source": [
    "multiline_string = \"\"\"The First Line\n",
    "The Second Line\n",
    "The Third Line\"\"\"\n",
    "\n",
    "# must be 3 inverted comma, or else cannot enter in 3 lines\n",
    "\n",
    "print ( multiline_string )"
   ]
  },
  {
   "cell_type": "code",
   "execution_count": 112,
   "metadata": {
    "scrolled": true
   },
   "outputs": [
    {
     "name": "stdout",
     "output_type": "stream",
     "text": [
      "\n",
      "The First Column\t\tThe Second Column\t\tThe Third Column\n",
      "\n",
      "\n",
      "\n",
      "\n",
      "\n"
     ]
    }
   ],
   "source": [
    "string_with_tabs = \"\\nThe First Column\\t\\tThe Second Column\\t\\tThe Third Column\\n\\n\\n\\n\\n\"   # \\t refers to a tab\n",
    "\n",
    "print ( string_with_tabs )       # two tabs"
   ]
  },
  {
   "cell_type": "code",
   "execution_count": 121,
   "metadata": {
    "scrolled": false
   },
   "outputs": [
    {
     "ename": "SyntaxError",
     "evalue": "invalid syntax (4202135178.py, line 6)",
     "output_type": "error",
     "traceback": [
      "\u001b[1;36m  Cell \u001b[1;32mIn[121], line 6\u001b[1;36m\u001b[0m\n\u001b[1;33m    s6 = 'He said, \"This isn't me.'\"'\u001b[0m\n\u001b[1;37m                             ^\u001b[0m\n\u001b[1;31mSyntaxError\u001b[0m\u001b[1;31m:\u001b[0m invalid syntax\n"
     ]
    }
   ],
   "source": [
    "s1 = \"This isn't me.\"\n",
    "s2 = \"He said, \\\"This isn't me.\\\"\"      # \\ is escape, so you escape then quotation mark\n",
    "s3 = 'He said, \"This isn\\'t me.\"'       # you have two inverted commas and one inverted commas to separate\n",
    "s4 = \"John o' Groats\"                 # the most northerly point in Britain\n",
    "s5 = \"He said,\"\"This isn't me.\"\"\" \n",
    "s6 = 'He said, \"This isn't me.'\"'\n",
    "\n",
    "print ( s1 )\n",
    "print ( s2 )\n",
    "print ( s3 )\n",
    "print ( s4 )\n",
    "print ( s5 )\n",
    "print ( s6 )"
   ]
  },
  {
   "cell_type": "markdown",
   "metadata": {},
   "source": [
    "## Multiline String\n",
    "\n",
    "To create a multiline string, you can also use triple quotes.  Either ''' or \"\"\" on both ends of the string.\n",
    "\n",
    "Note that if you use triple quotes, you need *not* use the escape character for newline \"\\n\")."
   ]
  },
  {
   "cell_type": "code",
   "execution_count": 110,
   "metadata": {},
   "outputs": [
    {
     "name": "stdout",
     "output_type": "stream",
     "text": [
      "Hey, diddle, diddle, the cat and the fiddle\n",
      "The cow jumped over the moon\n",
      "The little dog laughed to see such fun\n",
      "And the dish ran away with the spoon\n",
      "\n",
      "Twinkle, twinkle, little star,\n",
      "How I wonder what you are,\n",
      "Up above the world so high,\n",
      "Like a diamond in the sky,\n",
      "Twinkle, twinkle, little star,\n",
      "How I wonder what you are.\n"
     ]
    }
   ],
   "source": [
    "nursery_rhyme_1 = '''Hey, diddle, diddle, the cat and the fiddle\n",
    "The cow jumped over the moon\n",
    "The little dog laughed to see such fun\n",
    "And the dish ran away with the spoon'''\n",
    "\n",
    "nursery_rhyme_2 = \"\"\"Twinkle, twinkle, little star,\n",
    "How I wonder what you are,\n",
    "Up above the world so high,\n",
    "Like a diamond in the sky,\n",
    "Twinkle, twinkle, little star,\n",
    "How I wonder what you are.\"\"\"\n",
    "\n",
    "print ( nursery_rhyme_1 )       # print the first nursery rhyme\n",
    "print ()                        # print an empty line\n",
    "print ( nursery_rhyme_2 )       # print the second nursery rhyme"
   ]
  },
  {
   "cell_type": "markdown",
   "metadata": {},
   "source": [
    "## Splitting a String\n",
    "\n",
    "str.split(',') is a string function which divides a string up into a list of string pieces based on a \"separator\" parameter that separates the pieces.\n",
    "\n",
    "When you use the split() method, think \"one string split into several substrings\" in a list."
   ]
  },
  {
   "cell_type": "code",
   "execution_count": 130,
   "metadata": {},
   "outputs": [
    {
     "name": "stdout",
     "output_type": "stream",
     "text": [
      "Stuff\n"
     ]
    }
   ],
   "source": [
    "title = \"Automate the Boring Stuff with Python\"\n",
    "\n",
    "print ( title.split()[3])   # returns the third splited word, starting with 0"
   ]
  },
  {
   "cell_type": "code",
   "execution_count": 122,
   "metadata": {
    "scrolled": true
   },
   "outputs": [
    {
     "name": "stdout",
     "output_type": "stream",
     "text": [
      "['Automate', 'the', 'Boring', 'Stuff', 'with', 'Python']\n"
     ]
    }
   ],
   "source": [
    "title = \"Automate the Boring Stuff with Python\"\n",
    "\n",
    "print ( title.split() )   # results are substrings in a list"
   ]
  },
  {
   "cell_type": "code",
   "execution_count": 123,
   "metadata": {},
   "outputs": [
    {
     "name": "stdout",
     "output_type": "stream",
     "text": [
      "['Automate', 'the', 'Boring', 'Stuff', 'with', 'Python']\n"
     ]
    }
   ],
   "source": [
    "print ( \"Automate the Boring Stuff with Python\".split() ) # same applies to the full sentence entered"
   ]
  },
  {
   "cell_type": "code",
   "execution_count": 124,
   "metadata": {},
   "outputs": [
    {
     "name": "stdout",
     "output_type": "stream",
     "text": [
      "['Good morning', 'my name is Andrew', 'I am 25 years old', \"and I'm in a wonderful mood today.\"]\n"
     ]
    }
   ],
   "source": [
    "sentence = \"Good morning, my name is Andrew, I am 25 years old, and I'm in a wonderful mood today.\"\n",
    "\n",
    "print ( sentence.split(\", \") )     # results are substrings in a list\n",
    "# specify the split, on every ,\n",
    "# bt default is uses spaces"
   ]
  },
  {
   "cell_type": "code",
   "execution_count": 125,
   "metadata": {},
   "outputs": [
    {
     "name": "stdout",
     "output_type": "stream",
     "text": [
      "['Kuala Lumpur', 'Ho Chi Minh City', 'Hanoi', 'Bangkok', 'Bandar Seri Begawan', 'Manila']\n"
     ]
    }
   ],
   "source": [
    "messy_list = \"Kuala Lumpur#Ho Chi Minh City#Hanoi#Bangkok#Bandar Seri Begawan#Manila\"\n",
    "\n",
    "print ( messy_list.split(\"#\") )    # results in a list"
   ]
  },
  {
   "cell_type": "code",
   "execution_count": 131,
   "metadata": {},
   "outputs": [
    {
     "name": "stdout",
     "output_type": "stream",
     "text": [
      "['London', 'Paris', 'Berlin', 'Moscow#Lisbon#Madrid#Vienna#Amsterdam']\n"
     ]
    }
   ],
   "source": [
    "cities = \"London#Paris#Berlin#Moscow#Lisbon#Madrid#Vienna#Amsterdam\"\n",
    "\n",
    "# setting the maxsplit parameter to 3, will return a list with 4 elements!\n",
    "print ( cities.split(\"#\", 3) )     # results are substrings in a list, split 3 times, return 4 parts\n",
    "\n",
    "# beware this is not index[3], it is to specify split into 4 parts, so it will only separate the starting 3 hashtag for you"
   ]
  },
  {
   "cell_type": "code",
   "execution_count": 127,
   "metadata": {},
   "outputs": [
    {
     "name": "stdout",
     "output_type": "stream",
     "text": [
      "['London', 'Paris', 'Berlin', 'Moscow', 'Lisbon', 'Madrid', 'Vienna', 'Amsterdam']\n"
     ]
    }
   ],
   "source": [
    "cities = \"London#Paris#Berlin#Moscow#Lisbon#Madrid#Vienna#Amsterdam\"\n",
    "\n",
    "# setting the maxsplit parameter to 100 is okay because 100 specifies the *maximum* number of splits\n",
    "print ( cities.split(\"#\", 100) )     # results are substrings in a list"
   ]
  },
  {
   "cell_type": "code",
   "execution_count": 134,
   "metadata": {
    "scrolled": true
   },
   "outputs": [
    {
     "name": "stdout",
     "output_type": "stream",
     "text": [
      "['Automate', 'the', 'Boring', 'Stuff with Python']\n",
      "['Automate', 'the', 'Boring', 'Stuff', 'with', 'Python']\n"
     ]
    }
   ],
   "source": [
    "title = \"Automate the Boring Stuff with Python\"\n",
    "\n",
    "print ( title.split(\" \", 3) )      # results are substrings in a list\n",
    "print ( title.split())"
   ]
  },
  {
   "cell_type": "code",
   "execution_count": 129,
   "metadata": {},
   "outputs": [
    {
     "name": "stdout",
     "output_type": "stream",
     "text": [
      "['Kuala Lumpur#', '#Hanoi#Bangkok#Bandar Seri Begawan#Manila']\n"
     ]
    }
   ],
   "source": [
    "messy_list = \"Kuala Lumpur#Ho Chi Minh City#Hanoi#Bangkok#Bandar Seri Begawan#Manila\"\n",
    "\n",
    "print ( messy_list.split(\"Ho Chi Minh City\") )    # results are substrings in a list\n",
    "# using \"Ho Chi Minh City\" as a split, like comma and spaces"
   ]
  },
  {
   "cell_type": "markdown",
   "metadata": {},
   "source": [
    "## Joining Strings\n",
    "\n",
    "```','.join(list)``` is a string function which is approximately the opposite of split -- take a list of strings parameter and forms it into a big string, using the string as a separator.\n",
    "\n",
    "In the example below, the comma (```, ```) is used as the separator."
   ]
  },
  {
   "cell_type": "code",
   "execution_count": 135,
   "metadata": {},
   "outputs": [
    {
     "name": "stdout",
     "output_type": "stream",
     "text": [
      "Rambutan, Durian, Jambu, Langsat\n",
      "\n",
      "<class 'str'>\n"
     ]
    }
   ],
   "source": [
    "print (', '.join([\"Rambutan\", \"Durian\", \"Jambu\", \"Langsat\"]) )\n",
    "\n",
    "print ()\n",
    "\n",
    "print ( type ( ', '.join([\"Rambutan\", \"Durian\", \"Jambu\", \"Langsat\"]) ) )"
   ]
  },
  {
   "cell_type": "markdown",
   "metadata": {},
   "source": [
    "## Raw Strings\n",
    "\n",
    "A raw string completely ignores all escape characters, and prints any backslash that appears in the string.\n",
    "\n",
    "It considers the backslash as part of the string and not as the start of an escape character.\n",
    "\n",
    "Raw strings are helpful if you are typing string values that contain many backslashes, such as the location of a file or directory on a hard drive.\n",
    "\n",
    "Raw strings are frequently used in two situations:\n",
    "\n",
    "* when interacting with the operating system\n",
    "* when using regular expressions\n",
    "\n",
    "We will be revisiting them when we discuss the os, glob, shutil and pathlib modules."
   ]
  },
  {
   "cell_type": "code",
   "execution_count": 136,
   "metadata": {},
   "outputs": [
    {
     "name": "stdout",
     "output_type": "stream",
     "text": [
      "Printed without the use of a raw string : c:\\Users\\ascklee\\Documents\n",
      "\n",
      "Printed using a raw string              : c:\\Users\\ascklee\\Documents\n"
     ]
    }
   ],
   "source": [
    "print ( \"Printed without the use of a raw string : c:\\\\Users\\\\ascklee\\\\Documents\" ) #regular string\n",
    "print ()\n",
    "print ( r\"Printed using a raw string              : c:\\Users\\ascklee\\Documents\" ) # raw string\n",
    "# raw string is to make the back slashes appear as normal"
   ]
  },
  {
   "cell_type": "markdown",
   "metadata": {},
   "source": [
    "## Counting Occurences of a Substring\n",
    "\n",
    "The ```count()``` string method counts the number of occurences of a substring in a string."
   ]
  },
  {
   "cell_type": "code",
   "execution_count": 137,
   "metadata": {},
   "outputs": [
    {
     "name": "stdout",
     "output_type": "stream",
     "text": [
      "3\n"
     ]
    }
   ],
   "source": [
    "text = \"I simple love apples, and apples are my favorite fruit.  I don't quite like pineapples though.\"\n",
    "\n",
    "print ( text.count(\"apple\") )              # apples, apples and pineapples"
   ]
  },
  {
   "cell_type": "code",
   "execution_count": 138,
   "metadata": {},
   "outputs": [
    {
     "name": "stdout",
     "output_type": "stream",
     "text": [
      "20\n",
      "9\n",
      "8\n"
     ]
    }
   ],
   "source": [
    "# A famous speech by US President Abraham Lincoln\n",
    "\n",
    "Gettysburg_Address = \"\"\"Four score and seven years ago our fathers brought forth on this continent, a new nation, conceived in Liberty, and dedicated to the proposition that all men are created equal.\n",
    "Now we are engaged in a great civil war, testing whether that nation, or any nation so conceived and so dedicated, can long endure.\n",
    "We are met on a great battle-field of that war.\n",
    "We have come to dedicate a portion of that field, as a final resting place for those who here gave their lives that that nation might live.\n",
    "It is altogether fitting and proper that we should do this.\n",
    "But, in a larger sense, we can not dedicate -- we can not consecrate -- we can not hallow -- this ground.\n",
    "The brave men, living and dead, who struggled here, have consecrated it, far above our poor power to add or detract.\n",
    "The world will little note, nor long remember what we say here, but it can never forget what they did here.\n",
    "It is for us the living, rather, to be dedicated here to the unfinished work which they who fought here have thus far so nobly advanced.\n",
    "It is rather for us to be here dedicated to the great task remaining before us -- that from these honored dead we take increased devotion to that cause for which they gave the last full measure of devotion -- that we here highly resolve that these dead shall not have died in vain -- that this nation, under God, shall have a new birth of freedom -- and that government of the people, by the people, for the people, shall not perish from the earth.\"\"\"\n",
    "\n",
    "print ( Gettysburg_Address.count(\"the\") )        # the number of times \"the\" appears in Lincoln's Gettysburg Address\n",
    "print ( Gettysburg_Address.count(\"we\") )         # the number of times \"we\" appears in Lincoln's Gettysburg Address\n",
    "print ( Gettysburg_Address.count(\"here\") )       # the number of times \"here\" appears in Lincoln's Gettysburg Address"
   ]
  },
  {
   "cell_type": "markdown",
   "metadata": {},
   "source": [
    "## The splitlines() Method\n",
    "\n",
    "The ```splitlines()``` method splits the string at line breaks and returns a list of lines in the string.\n",
    "\n",
    "If keepends is provided and True, line breaks are also included in items of the list.  By default, the line breaks are not included."
   ]
  },
  {
   "cell_type": "code",
   "execution_count": 139,
   "metadata": {},
   "outputs": [
    {
     "name": "stdout",
     "output_type": "stream",
     "text": [
      "instant noodles\n",
      "peanut butter\n",
      "marmalade\n",
      "ham\n",
      "bacon\n",
      "corned beef\n",
      "\n",
      "['instant noodles', 'peanut butter', 'marmalade', 'ham', 'bacon', 'corned beef']\n",
      "['instant noodles\\n', 'peanut butter\\n', 'marmalade\\n', 'ham\\n', 'bacon\\n', 'corned beef']\n",
      "['instant noodles  peanut butter  marmalade  ham  bacon  corned beef']\n"
     ]
    }
   ],
   "source": [
    "shopping_list = 'instant noodles\\npeanut butter\\nmarmalade\\nham\\nbacon\\ncorned beef'\n",
    "# no gap between \\n and the strings\n",
    "\n",
    "print (shopping_list)\n",
    "print ()\n",
    "\n",
    "print ( shopping_list.splitlines() )   # line breaks are not included AKA ignore differnt lines, print as a list\n",
    "print ( shopping_list.splitlines(keepends=True) )   # line breaks are included AKA print as a list but mention should be in different lines\n",
    "\n",
    "groceries = 'instant noodles  peanut butter  marmalade  ham  bacon  corned beef'\n",
    "print ( groceries.splitlines() )          # doesn't work because the original string is already in one line"
   ]
  },
  {
   "cell_type": "code",
   "execution_count": 140,
   "metadata": {
    "scrolled": true
   },
   "outputs": [
    {
     "name": "stdout",
     "output_type": "stream",
     "text": [
      "['Four score and seven years ago our fathers brought forth on this continent, a new nation, conceived in Liberty, and dedicated to the proposition that all men are created equal.', 'Now we are engaged in a great civil war, testing whether that nation, or any nation so conceived and so dedicated, can long endure.', 'We are met on a great battle-field of that war.', 'We have come to dedicate a portion of that field, as a final resting place for those who here gave their lives that that nation might live.', 'It is altogether fitting and proper that we should do this.', 'But, in a larger sense, we can not dedicate -- we can not consecrate -- we can not hallow -- this ground.', 'The brave men, living and dead, who struggled here, have consecrated it, far above our poor power to add or detract.', 'The world will little note, nor long remember what we say here, but it can never forget what they did here.', 'It is for us the living, rather, to be dedicated here to the unfinished work which they who fought here have thus far so nobly advanced.', 'It is rather for us to be here dedicated to the great task remaining before us -- that from these honored dead we take increased devotion to that cause for which they gave the last full measure of devotion -- that we here highly resolve that these dead shall not have died in vain -- that this nation, under God, shall have a new birth of freedom -- and that government of the people, by the people, for the people, shall not perish from the earth.']\n",
      "\n",
      "Four score and seven years ago our fathers brought forth on this continent, a new nation, conceived in Liberty, and dedicated to the proposition that all men are created equal.\n",
      "Now we are engaged in a great civil war, testing whether that nation, or any nation so conceived and so dedicated, can long endure.\n",
      "We are met on a great battle-field of that war.\n",
      "We have come to dedicate a portion of that field, as a final resting place for those who here gave their lives that that nation might live.\n",
      "It is altogether fitting and proper that we should do this.\n",
      "But, in a larger sense, we can not dedicate -- we can not consecrate -- we can not hallow -- this ground.\n",
      "The brave men, living and dead, who struggled here, have consecrated it, far above our poor power to add or detract.\n",
      "The world will little note, nor long remember what we say here, but it can never forget what they did here.\n",
      "It is for us the living, rather, to be dedicated here to the unfinished work which they who fought here have thus far so nobly advanced.\n",
      "It is rather for us to be here dedicated to the great task remaining before us -- that from these honored dead we take increased devotion to that cause for which they gave the last full measure of devotion -- that we here highly resolve that these dead shall not have died in vain -- that this nation, under God, shall have a new birth of freedom -- and that government of the people, by the people, for the people, shall not perish from the earth.\n"
     ]
    }
   ],
   "source": [
    "Gettysburg_Address = \"\"\"Four score and seven years ago our fathers brought forth on this continent, a new nation, conceived in Liberty, and dedicated to the proposition that all men are created equal.\n",
    "Now we are engaged in a great civil war, testing whether that nation, or any nation so conceived and so dedicated, can long endure.\n",
    "We are met on a great battle-field of that war.\n",
    "We have come to dedicate a portion of that field, as a final resting place for those who here gave their lives that that nation might live.\n",
    "It is altogether fitting and proper that we should do this.\n",
    "But, in a larger sense, we can not dedicate -- we can not consecrate -- we can not hallow -- this ground.\n",
    "The brave men, living and dead, who struggled here, have consecrated it, far above our poor power to add or detract.\n",
    "The world will little note, nor long remember what we say here, but it can never forget what they did here.\n",
    "It is for us the living, rather, to be dedicated here to the unfinished work which they who fought here have thus far so nobly advanced.\n",
    "It is rather for us to be here dedicated to the great task remaining before us -- that from these honored dead we take increased devotion to that cause for which they gave the last full measure of devotion -- that we here highly resolve that these dead shall not have died in vain -- that this nation, under God, shall have a new birth of freedom -- and that government of the people, by the people, for the people, shall not perish from the earth.\"\"\"\n",
    "\n",
    "text_in_separate_lines = Gettysburg_Address.splitlines(keepends=False)\n",
    "\n",
    "print ( text_in_separate_lines )   # this produces a list of the separate lines\n",
    "\n",
    "print ()\n",
    "\n",
    "for line in text_in_separate_lines:\n",
    "    print ( line )   # this for loop prints the individual lines (for loops will be discussed next week)"
   ]
  },
  {
   "cell_type": "markdown",
   "metadata": {},
   "source": [
    "## The ```print()``` Function\n",
    "\n",
    "The ```print()``` function is one of the most frequently used functions in Python.\n",
    "\n",
    "This function is a critical one because the results of your computations have to be displayed in some way to the user!\n",
    "\n",
    "In this section, we will learn how to use this function effectively to structure your output.\n",
    "\n",
    "There are several methods of printing.  We will start with the simplest method -- using comma separators."
   ]
  },
  {
   "cell_type": "code",
   "execution_count": 148,
   "metadata": {},
   "outputs": [
    {
     "name": "stdout",
     "output_type": "stream",
     "text": [
      "Mr. Tan has been a/an librarian for 10 years.\n",
      "Mr. Tanhas been a/anlibrarianfor 10years.\n"
     ]
    }
   ],
   "source": [
    "duration = 10\n",
    "profession = \"librarian\"\n",
    "name = \"Mr. Tan\"\n",
    "\n",
    "print (name, \"has been a/an\", profession, \"for\", duration, \"years.\")\n",
    "# must use comma, replaced by space in resulting output\n",
    "print (str(name) + \"has been a/an\" + str(profession) + \"for\", str(duration) + \"years.\")\n",
    "# in this case it still works using + sign but limited to string variable only and not separated using spaces\n",
    "\n",
    "# note that each expression is separated by a comma"
   ]
  },
  {
   "cell_type": "code",
   "execution_count": 142,
   "metadata": {},
   "outputs": [
    {
     "name": "stdout",
     "output_type": "stream",
     "text": [
      "In Malay use 'selamat pagi' to greet others in the morning.\n"
     ]
    }
   ],
   "source": [
    "language = \"Malay\"\n",
    "greeting = \"'selamat pagi'\"\n",
    "\n",
    "print (\"In\", language, \"use\", greeting, \"to greet others in the morning.\")\n",
    "\n",
    "# note that each expression is separated by a comma"
   ]
  },
  {
   "cell_type": "code",
   "execution_count": 143,
   "metadata": {},
   "outputs": [
    {
     "name": "stdout",
     "output_type": "stream",
     "text": [
      "This book costs 12.34 Singapore dollars.\n"
     ]
    }
   ],
   "source": [
    "item = \"book\"\n",
    "price = 12.34\n",
    "\n",
    "print (\"This\", item, \"costs\", price, \"Singapore dollars.\")\n",
    "\n",
    "# note that each expression is separated by a comma"
   ]
  },
  {
   "cell_type": "code",
   "execution_count": 144,
   "metadata": {},
   "outputs": [
    {
     "name": "stdout",
     "output_type": "stream",
     "text": [
      "5 times 6 is 30\n"
     ]
    }
   ],
   "source": [
    "first_number = 5\n",
    "second_number = 6\n",
    "\n",
    "print (first_number, \"times\", second_number, \"is\", first_number * second_number)\n",
    "\n",
    "# print() prints a bunch of expressions which are separated by comma"
   ]
  },
  {
   "cell_type": "markdown",
   "metadata": {},
   "source": [
    "### Printing Using the String Modulo Operator (```%```)\n",
    "\n",
    "Another old method of printing is to use ```%``` (the *string modulo operator*).\n",
    "\n",
    "Format:\n",
    "\n",
    "```print (string % variables)```"
   ]
  },
  {
   "cell_type": "code",
   "execution_count": 145,
   "metadata": {
    "scrolled": true
   },
   "outputs": [
    {
     "name": "stdout",
     "output_type": "stream",
     "text": [
      "2\n"
     ]
    }
   ],
   "source": [
    "print (27 % 5)   # in this context, the \"%\" operator is the modulus (remainder) operator"
   ]
  },
  {
   "cell_type": "code",
   "execution_count": 162,
   "metadata": {},
   "outputs": [
    {
     "name": "stdout",
     "output_type": "stream",
     "text": [
      "I ordered 10 eggs.\n",
      "I ordered 10 eggs.\n",
      "I ordered    10 eggs.\n",
      "I ordered         10 eggs.\n",
      "I ordered 00010 eggs.\n"
     ]
    }
   ],
   "source": [
    "quantity = 10\n",
    "item = \"eggs\"\n",
    "\n",
    "print (\"I ordered %d %s.\" % (quantity, item))      # d - decimal number; s - string\n",
    "print (\"I ordered %2d %s.\" % (quantity, item))      # d - decimal number; s - string\n",
    "print (\"I ordered %5d %s.\" % (quantity, item))      # d - decimal number; s - string\n",
    "print (\"I ordered %10d %s.\" % (quantity, item))      # d - decimal number; s - string\n",
    "print (\"I ordered %.5d %s.\" % (quantity, item))\n",
    "\n",
    "# Note the format of the print() function:\n",
    "# print ( string % tuple )\n",
    "# the string will contain placeholders\n",
    "# the tuple will contain the values that are supposed to replace the placeholders"
   ]
  },
  {
   "cell_type": "code",
   "execution_count": 171,
   "metadata": {
    "scrolled": true
   },
   "outputs": [
    {
     "name": "stdout",
     "output_type": "stream",
     "text": [
      "Quantity: 7531, Price per unit: $      12.345678, Amount: $92975.301018\n",
      "Quantity:  7531, Price per unit: $   12.35, Amount: $       92975.30\n",
      "Quantity:  7531, Price per unit: $   12.35, Amount: $       92975.30\n"
     ]
    }
   ],
   "source": [
    "quantity = 7531\n",
    "price = 12.345678\n",
    "\n",
    "print (\"Quantity: %.0u, Price per unit: $%15.6f, Amount: $%.6f\" % (quantity, price, quantity * price))   # using u\n",
    "print (\"Quantity: %5i, Price per unit: $%8.2f, Amount: $%15.2f\" % (quantity, price, quantity * price))   # using i\n",
    "print (\"Quantity: %5d, Price per unit: $%8.2f, Amount: $%15.2f\" % (quantity, price, quantity * price))   # using d"
   ]
  },
  {
   "cell_type": "markdown",
   "metadata": {},
   "source": [
    "\n",
    "|Conversion|Meaning|  \n",
    "|---|---|  \n",
    "|d|Signed integer decimal|\n",
    "|i|Signed integer decimal|\n",
    "|b|Binary numbers|\n",
    "|o|Unsigned octal|\n",
    "|u|Signed integer decimal (obsolete)|\n",
    "|x|Unsigned hexadecimal|\n",
    "|X|Unsigned hexadecimal|\n",
    "|e|Floating-point (exponential format)|\n",
    "|E|Floating-point (exponential format)|\n",
    "|f|Floating-point (decimal format)|\n",
    "|F|Floating-point (decimal format)|\n",
    "|g|Same as \"e\"|\n",
    "|G|Same as \"E\"|\n",
    "|s|String|\n",
    "|%|the '%' character |"
   ]
  },
  {
   "cell_type": "code",
   "execution_count": 174,
   "metadata": {},
   "outputs": [
    {
     "name": "stdout",
     "output_type": "stream",
     "text": [
      "Number of students : 240, Boys : 110, Girls : 130\n",
      "\n",
      "Quantity :  1, Length :  5.33, Width : 1.42780\n",
      "\n",
      "    250 is     372 in the octal number system\n",
      "\n",
      "250 is 372 in the octal number system\n",
      "\n",
      " 1000 is     3e8 in the hexadecimal number system\n",
      "\n",
      "speed of light =  2.998e+08 metres per second\n",
      "\n",
      "distance from the Sun to Earth  =  1.496E+11 metres\n",
      "\n"
     ]
    }
   ],
   "source": [
    "# print integer value (d)\n",
    "print(\"Number of students : %3d, Boys : %2d, Girls : %1d\\n\" % (240, 110, 130))   # Python is clever!\n",
    "# no matter the %Xd, if the assigned number is larger than X it will just ignore, not possible to display 130 as 1 only\n",
    "\n",
    "# print integer and float values -- mix and match (d and f)\n",
    "print(\"Quantity : %2d, Length : %5.2f, Width : %5.5f\\n\" % (1, 5.3_329, 1.4_278))\n",
    "\n",
    "# print octal value (o)         # 7 is total space u wanted to display, .3 is decimal spaces to display if have\n",
    "print(\"%7d is %7.3o in the octal number system\\n\" % (250, 250))\n",
    "print(\"%d is %o in the octal number system\\n\" % (250, 250))\n",
    "\n",
    "# print hexadecimal value (x)\n",
    "print(\"%5d is %7.3x in the hexadecimal number system\\n\" % (1_000, 1_000))\n",
    "\n",
    "# print exponential value (e)\n",
    "print(\"speed of light = %10.3e metres per second\\n\" % (2_9979_2458))\n",
    "\n",
    "# print string and exponential values (s and e)\n",
    "print(\"distance from %s to %s  = %10.3E metres\\n\" % (\"the Sun\", \"Earth\", 149_597_870_700))"
   ]
  },
  {
   "cell_type": "code",
   "execution_count": 175,
   "metadata": {
    "scrolled": false
   },
   "outputs": [
    {
     "ename": "TypeError",
     "evalue": "not all arguments converted during string formatting",
     "output_type": "error",
     "traceback": [
      "\u001b[1;31m---------------------------------------------------------------------------\u001b[0m",
      "\u001b[1;31mTypeError\u001b[0m                                 Traceback (most recent call last)",
      "Cell \u001b[1;32mIn[175], line 3\u001b[0m\n\u001b[0;32m      1\u001b[0m \u001b[38;5;66;03m# print integer values\u001b[39;00m\n\u001b[1;32m----> 3\u001b[0m \u001b[38;5;28mprint\u001b[39m(\u001b[38;5;124m\"\u001b[39m\u001b[38;5;124mNumber of students : \u001b[39m\u001b[38;5;132;01m%3d\u001b[39;00m\u001b[38;5;124m, Boys : \u001b[39m\u001b[38;5;132;01m%2d\u001b[39;00m\u001b[38;5;124m, Girls : \u001b[39m\u001b[38;5;132;01m%2d\u001b[39;00m\u001b[38;5;124m\"\u001b[39m \u001b[38;5;241m%\u001b[39m (\u001b[38;5;241m240\u001b[39m, \u001b[38;5;241m110\u001b[39m, \u001b[38;5;241m130\u001b[39m, \u001b[38;5;241m150\u001b[39m, \u001b[38;5;241m12.5\u001b[39m))\n",
      "\u001b[1;31mTypeError\u001b[0m: not all arguments converted during string formatting"
     ]
    }
   ],
   "source": [
    "# print integer values\n",
    "\n",
    "print(\"Number of students : %3d, Boys : %2d, Girls : %2d\" % (240, 110, 130, 150, 12.5))   # TypeError -- too many numbers!"
   ]
  },
  {
   "cell_type": "code",
   "execution_count": 176,
   "metadata": {},
   "outputs": [
    {
     "name": "stdout",
     "output_type": "stream",
     "text": [
      "Number of students : 240, Boys : 110, Girls : 130\n"
     ]
    }
   ],
   "source": [
    "# print integer values\n",
    "\n",
    "print(\"Number of students : %3d, Boys : %2d, Girls : %2d\" % (240, 110, 130))   # corrected"
   ]
  },
  {
   "cell_type": "markdown",
   "metadata": {},
   "source": [
    "### Printing Using the ```format()``` Method\n",
    "\n",
    "A newer way is to use the ```format()``` method.\n",
    "\n",
    "The string ```format()``` method is a handy way to paste values into a string.  It uses the special marker ```{}``` within a string to mark where things go.\n",
    "\n",
    "Format:\n",
    "\n",
    "```print (string.format(variables))```"
   ]
  },
  {
   "cell_type": "code",
   "execution_count": 195,
   "metadata": {},
   "outputs": [
    {
     "name": "stdout",
     "output_type": "stream",
     "text": [
      "The floating-point value of pi is       3.1415927, to       7 decimal places.\n",
      "The floating-point value of pi is 3, to       7 decimal places.\n"
     ]
    }
   ],
   "source": [
    "import math\n",
    "\n",
    "print (\"The floating-point value of pi is {0:15.7f}, to {1:7d} decimal places.\".format(math.pi, 7))\n",
    "# still works if you dont specify index but must have colon\n",
    "print (\"The floating-point value of pi is {:.0f}, to {:7d} decimal places.\".format(math.pi,7))"
   ]
  },
  {
   "cell_type": "code",
   "execution_count": 155,
   "metadata": {
    "scrolled": true
   },
   "outputs": [
    {
     "name": "stdout",
     "output_type": "stream",
     "text": [
      "A good Python textbook is Python 3: Pocket Primer by James Parker.\n",
      "\n",
      "A good Python textbook is Python 3: Pocket Primer by James Parker.\n",
      "\n",
      "A good Python textbook is Python 3: Pocket Primer by James Parker.\n",
      "\n",
      "A good Python textbook is Python 3: Pocket Primer by James Parker.\n"
     ]
    }
   ],
   "source": [
    "# using format() method\n",
    "print (\"A good {} textbook is {} by {}.\".format('Python', 'Python 3: Pocket Primer', \"James Parker\"))\n",
    "print ()\n",
    "\n",
    "# curly braces will be replace by smth\n",
    "\n",
    "# using format() method and using position\n",
    "print (\"A good {0} textbook is {1} by {2}.\".format('Python', 'Python 3: Pocket Primer', \"James Parker\"))\n",
    "print ()\n",
    "\n",
    "# using format() method and using position\n",
    "print (\"A good {2} textbook is {0} by {1}.\".format(\"Python 3: Pocket Primer\", \"James Parker\", \"Python\"))\n",
    "print ()\n",
    "\n",
    "a = \"Python\"\n",
    "b = \"Python 3: Pocket Primer\"\n",
    "c = \"James Parker\"\n",
    "\n",
    "# using format() method and using position\n",
    "print (\"A good {} textbook is {} by {}.\".format(a, b, c))"
   ]
  },
  {
   "cell_type": "code",
   "execution_count": 192,
   "metadata": {
    "scrolled": true
   },
   "outputs": [
    {
     "name": "stdout",
     "output_type": "stream",
     "text": [
      "3.141592653589793\n",
      "\n",
      "Pi to 5 decimal places is 3.14159.\n",
      "Usually, we dont need pi to a greater accuracy than 3.14.\n",
      "Don't go overboard, a pi value of 3.1 is extremely inaccurate!\n"
     ]
    }
   ],
   "source": [
    "import math\n",
    "\n",
    "print (math.pi)\n",
    "print ()\n",
    "print (\"Pi to 5 decimal places is {:.6g}.\".format(math.pi))   # g is significant figure\n",
    "print (\"Usually, we dont need pi to a greater accuracy than {:.3g}.\".format(math.pi))\n",
    "print (\"Don't go overboard, a pi value of {:.2g} is extremely inaccurate!\".format(math.pi))"
   ]
  },
  {
   "cell_type": "code",
   "execution_count": 197,
   "metadata": {},
   "outputs": [
    {
     "name": "stdout",
     "output_type": "stream",
     "text": [
      "35%\n",
      "35.000000%\n",
      "35.0%\n",
      "35.0%\n",
      "  35.0%\n",
      "     35.0%\n"
     ]
    }
   ],
   "source": [
    "discount = 0.35\n",
    "\n",
    "print (\"{:.0%}\".format(discount))   # 0.35 = 35%\n",
    "print (\"{:%}\".format(discount))\n",
    "print (\"{:1.1%}\".format(discount))   # 1 = field width; 1 = decimal places\n",
    "print (\"{:5.1%}\".format(discount))   # 5 = field width; 1 = decimal places\n",
    "print (\"{:7.1%}\".format(discount))   # 7 = field width; 1 = decimal places\n",
    "print (\"{:10.1%}\".format(discount))   # 10 = field width; 1 = decimal places"
   ]
  },
  {
   "cell_type": "code",
   "execution_count": 218,
   "metadata": {},
   "outputs": [
    {
     "name": "stdout",
     "output_type": "stream",
     "text": [
      "Quantity: 7, Price per unit: $12.34, Amount: $86.38\n",
      "Quantity: 111, Price per unit: $12.34, Amount: $86.38\n"
     ]
    }
   ],
   "source": [
    "quantity = 7\n",
    "price = 12.34\n",
    "\n",
    "print (\"Quantity: {:.4g}, Price per unit: ${:.4g}, Amount: ${:.4g}\".format(quantity, price, quantity * price))\n",
    "# the .4g is to display the formatted quantity in 4 significant figures\n",
    "\n",
    "print (\"Quantity: {:b}, Price per unit: ${:.4g}, Amount: ${:.4g}\".format(quantity, price, quantity * price))\n",
    "# the b is to display quantity in binary, numbers after : is to modify display"
   ]
  },
  {
   "cell_type": "markdown",
   "metadata": {},
   "source": [
    "#### Parametrized String Formatting"
   ]
  },
  {
   "cell_type": "code",
   "execution_count": 187,
   "metadata": {},
   "outputs": [
    {
     "name": "stdout",
     "output_type": "stream",
     "text": [
      "The special number is 3.141592653589793.\n"
     ]
    }
   ],
   "source": [
    "import math\n",
    "\n",
    "print (\"The special number is {}.\".format(math.pi))"
   ]
  },
  {
   "cell_type": "code",
   "execution_count": 188,
   "metadata": {},
   "outputs": [
    {
     "name": "stdout",
     "output_type": "stream",
     "text": [
      "The special number is  3.14.\n"
     ]
    }
   ],
   "source": [
    "import math\n",
    "\n",
    "print (\"The special number is {:5.2f}.\".format(math.pi))"
   ]
  },
  {
   "cell_type": "code",
   "execution_count": 189,
   "metadata": {},
   "outputs": [
    {
     "name": "stdout",
     "output_type": "stream",
     "text": [
      "The special number is  3.14.\n"
     ]
    }
   ],
   "source": [
    "import math\n",
    "# incase u are using a parameter on anything, can apply as well\n",
    "# formatting special number , not pi in to curly braces\n",
    "# but special number is defined as pi\n",
    "print (\"The special number is {special_number:5.2f}.\".format(special_number = math.pi))"
   ]
  },
  {
   "cell_type": "code",
   "execution_count": 190,
   "metadata": {},
   "outputs": [
    {
     "name": "stdout",
     "output_type": "stream",
     "text": [
      "The special number is 3.1416.\n"
     ]
    }
   ],
   "source": [
    "import math\n",
    "\n",
    "number_of_decimal_places = 4\n",
    "\n",
    "print (\"The special number is {special_number:5.{accuracy}f}.\".format(special_number = math.pi, accuracy = number_of_decimal_places))"
   ]
  },
  {
   "cell_type": "markdown",
   "metadata": {},
   "source": [
    "### Printing Using f-Strings\n",
    "\n",
    "In Python 3.6, a new way of formating strings was introduced.  This method is called f-strings.\n",
    "\n",
    "Study how following print statements work."
   ]
  },
  {
   "cell_type": "code",
   "execution_count": 198,
   "metadata": {},
   "outputs": [
    {
     "name": "stdout",
     "output_type": "stream",
     "text": [
      "The answer is 23.140692632779263.\n",
      "The answer is 23.14.\n",
      "The answer is 2.31e+01.\n",
      "The answer is 23.\n"
     ]
    }
   ],
   "source": [
    "import math\n",
    "\n",
    "answer = math.e**math.pi\n",
    "\n",
    "print (f\"The answer is {answer}.\")\n",
    "print (f\"The answer is {answer:.2f}.\")\n",
    "print (F\"The answer is {answer:.2e}.\")\n",
    "print (F\"The answer is {answer:.2g}.\")"
   ]
  },
  {
   "cell_type": "code",
   "execution_count": 199,
   "metadata": {},
   "outputs": [
    {
     "name": "stdout",
     "output_type": "stream",
     "text": [
      "The answer is 23.140692632779263.\n",
      "The answer is 23.14.\n",
      "The answer is 2.31e+01.\n",
      "The answer is 23.\n"
     ]
    }
   ],
   "source": [
    "import math\n",
    "\n",
    "print (f\"The answer is {math.e**math.pi}.\")\n",
    "print (f\"The answer is {math.e**math.pi:.2f}.\")\n",
    "print (F\"The answer is {math.e**math.pi:.2e}.\")\n",
    "print (F\"The answer is {math.e**math.pi:.2g}.\")"
   ]
  },
  {
   "cell_type": "code",
   "execution_count": 200,
   "metadata": {},
   "outputs": [
    {
     "name": "stdout",
     "output_type": "stream",
     "text": [
      "International Business Machines (IBM) is a computer hardware company.\n"
     ]
    }
   ],
   "source": [
    "name = \"International Business Machines (IBM)\"\n",
    "company_type = \"computer hardware\"\n",
    "\n",
    "print(f\"{name} is a {company_type} company.\")"
   ]
  },
  {
   "cell_type": "code",
   "execution_count": 201,
   "metadata": {},
   "outputs": [
    {
     "name": "stdout",
     "output_type": "stream",
     "text": [
      "The University of Tokyo is a great university in Japan.\n"
     ]
    }
   ],
   "source": [
    "school = \"University of Tokyo\"\n",
    "country = \"Japan\"\n",
    "\n",
    "print (f\"The {school} is a great university in {country}.\")"
   ]
  },
  {
   "cell_type": "code",
   "execution_count": 202,
   "metadata": {
    "scrolled": true
   },
   "outputs": [
    {
     "name": "stdout",
     "output_type": "stream",
     "text": [
      "4 times 7 equals 28.\n"
     ]
    }
   ],
   "source": [
    "print (f\"4 times 7 equals {4*7}.\")"
   ]
  },
  {
   "cell_type": "code",
   "execution_count": 203,
   "metadata": {},
   "outputs": [
    {
     "name": "stdout",
     "output_type": "stream",
     "text": [
      "Changi Airport: Terminal 4 (Passenger Waiting Area)\n"
     ]
    }
   ],
   "source": [
    "location = \"changi airport: terminal 4 (passenger waiting area)\"\n",
    "\n",
    "print(f\"{location.title()}\")\n",
    "\n",
    "# function the variable then use title attribute to modify\n"
   ]
  },
  {
   "cell_type": "code",
   "execution_count": 204,
   "metadata": {
    "scrolled": true
   },
   "outputs": [
    {
     "name": "stdout",
     "output_type": "stream",
     "text": [
      "A good Python textbook is Python 3: Pocket Primer by James Parker.\n",
      "A good Java textbook is Core Java by Cay S. Horstmann.\n"
     ]
    }
   ],
   "source": [
    "# This program shows that you can use either lowercase or uppercase \"f\" to indicate f-strings.\n",
    "\n",
    "a = \"Python\"\n",
    "b = \"Python 3: Pocket Primer\"\n",
    "c = \"James Parker\"\n",
    "\n",
    "d = \"Java\"\n",
    "e = \"Core Java\"\n",
    "f = \"Cay S. Horstmann\"\n",
    "\n",
    "print (f\"A good {a} textbook is {b} by {c}.\")       # using lowercase \"f\"\n",
    "\n",
    "print (F\"A good {d} textbook is {e} by {f}.\")       # using uppercase \"f\""
   ]
  },
  {
   "cell_type": "code",
   "execution_count": 205,
   "metadata": {
    "scrolled": true
   },
   "outputs": [
    {
     "name": "stdout",
     "output_type": "stream",
     "text": [
      "Quantity: 7, Price per unit: $12.34, Amount: $86.38\n",
      "\n",
      "Quantity: 7, Price per unit: $12.34, Amount: $86.38\n"
     ]
    }
   ],
   "source": [
    "quantity = 7\n",
    "price = 12.34\n",
    "# total = quantity * price\n",
    "\n",
    "print (f\"Quantity: {quantity}, Price per unit: ${price}, Amount: ${quantity * price}\")     # small f\n",
    "\n",
    "print ()\n",
    "\n",
    "print (F\"Quantity: {quantity}, Price per unit: ${price}, Amount: ${quantity * price}\")     # capital F"
   ]
  },
  {
   "cell_type": "markdown",
   "metadata": {},
   "source": [
    "This is a multi-line version of f-string."
   ]
  },
  {
   "cell_type": "code",
   "execution_count": 206,
   "metadata": {},
   "outputs": [
    {
     "name": "stdout",
     "output_type": "stream",
     "text": [
      "EnglishFrenchGermanRussian\n"
     ]
    }
   ],
   "source": [
    "print (\"English\" \"French\" \"German\" \"Russian\")"
   ]
  },
  {
   "cell_type": "code",
   "execution_count": 207,
   "metadata": {},
   "outputs": [
    {
     "name": "stdout",
     "output_type": "stream",
     "text": [
      "Name: John Doe\n",
      "Age: 32\n",
      "Occupation: gardener\n"
     ]
    }
   ],
   "source": [
    "name = 'John Doe'\n",
    "age = 32\n",
    "occupation = 'gardener'\n",
    "\n",
    "personal_details = (\n",
    "    f'Name: {name}\\n'\n",
    "    f'Age: {age}\\n'\n",
    "    f'Occupation: {occupation}'\n",
    ")\n",
    "\n",
    "\n",
    "print ( personal_details )"
   ]
  },
  {
   "cell_type": "markdown",
   "metadata": {},
   "source": [
    "#### Formatting f-strings"
   ]
  },
  {
   "cell_type": "code",
   "execution_count": 208,
   "metadata": {},
   "outputs": [
    {
     "name": "stdout",
     "output_type": "stream",
     "text": [
      "12.3\n",
      "12.30\n",
      "12.30000\n"
     ]
    }
   ],
   "source": [
    "value = 12.3\n",
    "\n",
    "print(f'{value}')\n",
    "print(f'{value:.2f}')   # f = floating-point value; 2 = 2 decimal places\n",
    "print(f'{value:.5f}')   # f = floating-point value; 5 = 5 decimal places"
   ]
  },
  {
   "cell_type": "code",
   "execution_count": 214,
   "metadata": {},
   "outputs": [
    {
     "name": "stdout",
     "output_type": "stream",
     "text": [
      "-0003 009 -00000027\n",
      "-0002 004 -00000008\n",
      "-0001 001 -00000001\n",
      "+0000 000 +00000000\n",
      "+0001 001 +00000001\n",
      "+0002 004 +00000008\n",
      "+0003 009 +00000027\n",
      "+0004 016 +00000064\n",
      "+0005 025 +00000125\n",
      "+0006 036 +00000216\n",
      "+0007 049 +00000343\n",
      "+0008 064 +00000512\n",
      "+0009 081 +00000729\n",
      "+0010 100 +00001000\n"
     ]
    }
   ],
   "source": [
    "for x in range(-3, 11):\n",
    "    print(f'{x:+05} {x*x:03} {x*x*x:+09}')\n",
    "    \n",
    "# anything after : is all to modify the display of length of output"
   ]
  },
  {
   "cell_type": "code",
   "execution_count": 213,
   "metadata": {
    "scrolled": true
   },
   "outputs": [
    {
     "name": "stdout",
     "output_type": "stream",
     "text": [
      "-0003 009 -27\n",
      "-0002 004 -8\n",
      "-0001 001 -1\n",
      "+0000 000  0\n",
      "+0001 001  1\n",
      "+0002 004  8\n",
      "+0003 009 27\n",
      "+0004 016 64\n",
      "+0005 025 125\n",
      "+0006 036 216\n",
      "+0007 049 343\n",
      "+0008 064 512\n",
      "+0009 081 729\n",
      "+0010 100 1000\n"
     ]
    }
   ],
   "source": [
    "for x in range(-3, 11):\n",
    "    print(f'{x:+05} {x*x:03} {x*x*x:2}')\n",
    "# if no + sign then with not have plus minus sign\n",
    "# function  x, which is from -3 to 10, display in 5 spaces, the 0 is to substitute the empty spaces in front\n",
    "\n",
    "# {x:+05} - print x, include the sign, pad with zeros\n",
    "# {x*x:03} - print x*x, do not include the sign unless it is negative, pad with zeros\n",
    "# {x*x*x:2} - print x*x*x, do not include the sign unless it is negative, do not pad with zeros"
   ]
  },
  {
   "cell_type": "code",
   "execution_count": 210,
   "metadata": {},
   "outputs": [
    {
     "name": "stdout",
     "output_type": "stream",
     "text": [
      "    a     \n",
      "ab        \n",
      "       abc\n",
      "   abcd   \n"
     ]
    }
   ],
   "source": [
    "s1 = 'a'\n",
    "s2 = 'ab'\n",
    "s3 = 'abc'\n",
    "s4 = 'abcd'\n",
    "\n",
    "print (f'{s1:^10}')   # centre the string\n",
    "print (f'{s2:<10}')   # left justify the string\n",
    "print (f'{s3:>10}')   # right justify the strings\n",
    "print (f'{s4:^10}')"
   ]
  },
  {
   "cell_type": "code",
   "execution_count": 211,
   "metadata": {
    "scrolled": true
   },
   "outputs": [
    {
     "name": "stdout",
     "output_type": "stream",
     "text": [
      "12c\n",
      "12C\n",
      "\n",
      "454\n",
      "\n",
      "3.000000e+02\n",
      "3.000000E+02\n"
     ]
    }
   ],
   "source": [
    "a = 300\n",
    "\n",
    "# hexadecimal\n",
    "print (f\"{a:x}\")   # display the integer in hexademical format (lower case: a, b, c, d, e)\n",
    "print (f\"{a:X}\")   # display the integer in hexademical format (upper case: A, B, C, D, E)\n",
    "print ()\n",
    "\n",
    "# octal\n",
    "print (f\"{a:o}\")   # display the integer in octal format\n",
    "print ()\n",
    "\n",
    "# scientific notation\n",
    "print (f\"{a:e}\")   # display the number in scientific format (lowercase: e)\n",
    "print (f\"{a:E}\")   # display the number in scientific format (lowercase: E)"
   ]
  },
  {
   "cell_type": "code",
   "execution_count": 228,
   "metadata": {},
   "outputs": [
    {
     "name": "stdout",
     "output_type": "stream",
     "text": [
      "The school's name begins with Singapore ...\n",
      "The school's name begins with Sing ...\n"
     ]
    }
   ],
   "source": [
    "string = \"Singapore Polytechnic\"\n",
    "\n",
    "print (f\"The school's name begins with {string:.9} ...\")\n",
    "\n",
    "# the .9 is only to display nine spaces\n",
    "\n",
    "print (f\"The school's name begins with {string:.4} ...\")\n",
    "\n",
    "# unlike numbers with display all e.g. %2d but 1234,they just stop at ctly position"
   ]
  },
  {
   "cell_type": "markdown",
   "metadata": {},
   "source": [
    "### Conditional String Formatting\n",
    "\n",
    "In Python 3.8, the f-strings method of printing was enhanced.  The enhanced version of f-strings is called self-documenting f-strings."
   ]
  },
  {
   "cell_type": "code",
   "execution_count": 233,
   "metadata": {},
   "outputs": [
    {
     "name": "stdout",
     "output_type": "stream",
     "text": [
      "The number is: 123.46\n",
      "The number is: 123.456789\n",
      "The number is: 23.456789\n",
      "The number is: 23.5\n"
     ]
    }
   ],
   "source": [
    "number = 123.456789\n",
    "\n",
    "print ( f'The number is: {number:{\".2f\" if number > 100 else \"\"}}' )\n",
    "print ( f'The number is: {number:{\".2f\" if number > 1000 else \"\"}}' )\n",
    "\n",
    "# print as 2 decimal places when is larger than X\n",
    "\n",
    "number = 23.456789\n",
    "\n",
    "print ( f'The number is: {number:{\".2f\" if number > 100 else \"\"}}' )\n",
    "print ( f'The number is: {number:{\".1f\" if number > 10 else \"\"}}' )"
   ]
  },
  {
   "cell_type": "code",
   "execution_count": 221,
   "metadata": {},
   "outputs": [
    {
     "name": "stdout",
     "output_type": "stream",
     "text": [
      "Name: ALICE\n",
      "Name: Benedict\n"
     ]
    }
   ],
   "source": [
    "name = \"alice\"\n",
    "\n",
    "print (f\"Name: {name.upper() if 1 < len(name) < 6 else name.capitalize()}\")\n",
    "\n",
    "name = \"benedict\"\n",
    "\n",
    "print (f\"Name: {name.upper() if 1 < len(name) < 6 else name.capitalize()}\")"
   ]
  },
  {
   "cell_type": "markdown",
   "metadata": {},
   "source": [
    "### Printing Using Self-documenting f-Strings\n",
    "\n",
    "In Python 3.8, the f-strings method of printing was enhanced.  The enhanced version of f-strings is called self-documenting f-strings."
   ]
  },
  {
   "cell_type": "code",
   "execution_count": 222,
   "metadata": {},
   "outputs": [
    {
     "name": "stdout",
     "output_type": "stream",
     "text": [
      "math.sin(x) = 0.7173560908995228\n",
      "math.cos(x) = 0.6967067093471654\n"
     ]
    }
   ],
   "source": [
    "# This is how it's done without self-documenting f-strings.\n",
    "\n",
    "import math\n",
    "\n",
    "x = 0.8\n",
    "\n",
    "print (f'math.sin(x) = {math.sin(x)}')\n",
    "print (f'math.cos(x) = {math.cos(x)}')"
   ]
  },
  {
   "cell_type": "code",
   "execution_count": 223,
   "metadata": {},
   "outputs": [
    {
     "name": "stdout",
     "output_type": "stream",
     "text": [
      "math.cos(x) = 0.6967067093471654\n",
      "math.sin(x) = 0.7173560908995228\n"
     ]
    }
   ],
   "source": [
    "# With self-documenting f-strings (introduced in Python 3.8), we have a more compact way of coding this ...\n",
    "\n",
    "import math\n",
    "\n",
    "x = 0.8\n",
    "\n",
    "print (f'{math.cos(x) = }')                                      # Python 3.8+\n",
    "print (f'{math.sin(x) = }')                                      # Python 3.8+"
   ]
  },
  {
   "cell_type": "markdown",
   "metadata": {},
   "source": [
    "## Handing Strings with Characters from Other Languages\n",
    "\n",
    "When handing characters from languages other than English, the chr() and ord() functions are indespensible!\n",
    "\n",
    "The chr() function takes a positive integer and converts it to its corresponding alphabetic value.\n",
    "\n",
    "* The letters A to Z have a decimal representation of 65 through 91.\n",
    "* The letters a to z have a decimal representation of 97 through 122.\n",
    "\n",
    "The ord() function does the opposite.  It takes in a character, and provides the decimal representation."
   ]
  },
  {
   "cell_type": "code",
   "execution_count": 224,
   "metadata": {},
   "outputs": [
    {
     "name": "stdout",
     "output_type": "stream",
     "text": [
      "A\n",
      "65\n"
     ]
    }
   ],
   "source": [
    "print ( chr(65) )   # the chr() function converts an integer into a character\n",
    "\n",
    "print ( ord('A') )   # the ord() function converts a character into an integer\n",
    "\n",
    "# Both functions do opposite things!"
   ]
  },
  {
   "cell_type": "code",
   "execution_count": 225,
   "metadata": {},
   "outputs": [
    {
     "name": "stdout",
     "output_type": "stream",
     "text": [
      "The UNICODE representation of 李 is: 26446\n",
      "The UNICODE representation of 光 is: 20809\n",
      "The UNICODE representation of 耀 is: 32768\n",
      "\n",
      "李 光 耀\n",
      "\n",
      "李光耀\n",
      "\n",
      "0x674e\n",
      "0x5149\n",
      "0x8000\n",
      "\n",
      "李光耀\n",
      "Россия\n",
      "🤣\n",
      "🤔\n"
     ]
    }
   ],
   "source": [
    "print (\"The UNICODE representation of 李 is:\", ord(\"李\"))        # returns an integer representing \"李\"\n",
    "print (\"The UNICODE representation of 光 is:\", ord(\"光\"))        # returns an integer representing \"光\"\n",
    "print (\"The UNICODE representation of 耀 is:\", ord(\"耀\"))        # returns an integer representing \"耀\"\n",
    "\n",
    "# play around with unicode, using ord() and chr()\n",
    "\n",
    "print ()\n",
    "print ( chr(26446), chr(20809), chr(32768) )           # returns a character whose Unicode code point is the integer\n",
    "\n",
    "print ()\n",
    "print ( chr(26446), chr(20809), chr(32768), sep=\"\" )   # and empty string = no separation between the characters\n",
    "\n",
    "# unicode is the hex form of ord\n",
    "\n",
    "print ()\n",
    "print ( hex(26446) )       # returns the hexadecimal representation of 26446\n",
    "print ( hex(20809) )       # returns the hexadecimal representation of 20809\n",
    "print ( hex(32768) )       # returns the hexadecimal representation of 32768\n",
    "\n",
    "print ()\n",
    "print (\"\\u674e\\u5149\\u8000\")                       # \\u means not printing literally but refer to the unicode number of e.g. 674e\n",
    "print (\"\\u0420\\u043e\\u0441\\u0441\\u0438\\u044f\")\n",
    "print (\"\\U0001F923\")\n",
    "print (\"\\N{thinking face}\")                         # Using the Common Locale Data Repository (CLDR) short name\n",
    "\n",
    "# For a complete list of CLDR short names, consult https://unicode.org/emoji/charts/full-emoji-list.html"
   ]
  },
  {
   "cell_type": "markdown",
   "metadata": {},
   "source": [
    "## The ```center()```, ```ljust()``` and ```rjust()``` Methods\n",
    "\n",
    "These methods are used to justify text."
   ]
  },
  {
   "cell_type": "code",
   "execution_count": 226,
   "metadata": {},
   "outputs": [
    {
     "name": "stdout",
     "output_type": "stream",
     "text": [
      "27\n",
      "\n",
      "Center aligned string:\n",
      "           Experimenting with strings.            \n",
      "\n",
      "Left aligned string:\n",
      "Experimenting with strings.                       \n",
      "\n",
      "The right aligned string:\n",
      "                       Experimenting with strings.\n"
     ]
    }
   ],
   "source": [
    "text = \"Experimenting with strings.\"\n",
    "\n",
    "print (len(text))\n",
    "print ()\n",
    "\n",
    "# Printing the center aligned string\n",
    "print (\"Center aligned string:\")\n",
    "print ( text.center(50) )\n",
    "print ()\n",
    "\n",
    "# Printing the left aligned string\n",
    "print (\"Left aligned string:\")\n",
    "print ( text.ljust(50) )\n",
    "print ()\n",
    "\n",
    "# Printing the right aligned string\n",
    "print (\"The right aligned string:\")\n",
    "print ( text.rjust(50) )                        # differnt a bit from lstrip, rstrip"
   ]
  },
  {
   "cell_type": "markdown",
   "metadata": {},
   "source": [
    "### Truncating Strings\n",
    "\n",
    "Strings can also be truncated.  In the cell below, only the first nine letters of the string stored in the variable *string* is printed."
   ]
  },
  {
   "cell_type": "code",
   "execution_count": 227,
   "metadata": {},
   "outputs": [
    {
     "name": "stdout",
     "output_type": "stream",
     "text": [
      "The school's name begins with Singapore ...\n"
     ]
    }
   ],
   "source": [
    "string = \"Singapore Polytechnic\"\n",
    "\n",
    "print (f\"The school's name begins with {string:.9} ...\")   # just the first 9 characters of the string"
   ]
  },
  {
   "cell_type": "markdown",
   "metadata": {},
   "source": [
    "### Using Padding\n",
    "\n",
    "To see this effect properly, let's pad the string with characters."
   ]
  },
  {
   "cell_type": "code",
   "execution_count": 234,
   "metadata": {},
   "outputs": [
    {
     "name": "stdout",
     "output_type": "stream",
     "text": [
      "Center aligned string, padded with '%':\n",
      "%%%%%%%%%%%Experimenting with strings.%%%%%%%%%%%%\n",
      "\n",
      "Left aligned string, padded with '-':\n",
      "Experimenting with strings.-----------------------\n",
      "\n",
      "The right aligned string, padded with '*':\n",
      "***********************Experimenting with strings.\n"
     ]
    }
   ],
   "source": [
    "text = \"Experimenting with strings.\"\n",
    "\n",
    "# Printing the center aligned string padded with \"%\"\n",
    "print (\"Center aligned string, padded with '%':\")\n",
    "print ( text.center(50, '%') )\n",
    "print()\n",
    "\n",
    "# Printing the left aligned string padded with \"-\" \n",
    "print (\"Left aligned string, padded with '-':\")\n",
    "print ( text.ljust(50, '-') )\n",
    "print()\n",
    "\n",
    "# Printing the right aligned string padded with \"*\"\n",
    "print (\"The right aligned string, padded with '*':\")\n",
    "print ( text.rjust(50, '*') )"
   ]
  },
  {
   "cell_type": "code",
   "execution_count": 235,
   "metadata": {},
   "outputs": [
    {
     "name": "stdout",
     "output_type": "stream",
     "text": [
      "Center aligned string, padded with : \n"
     ]
    },
    {
     "ename": "TypeError",
     "evalue": "The fill character must be exactly one character long",
     "output_type": "error",
     "traceback": [
      "\u001b[1;31m---------------------------------------------------------------------------\u001b[0m",
      "\u001b[1;31mTypeError\u001b[0m                                 Traceback (most recent call last)",
      "Cell \u001b[1;32mIn[235], line 7\u001b[0m\n\u001b[0;32m      5\u001b[0m \u001b[38;5;66;03m# Printing the center aligned string padded with \"%!%!%!%!%!\"\u001b[39;00m\n\u001b[0;32m      6\u001b[0m \u001b[38;5;28mprint\u001b[39m (\u001b[38;5;124m\"\u001b[39m\u001b[38;5;124mCenter aligned string, padded with : \u001b[39m\u001b[38;5;124m\"\u001b[39m)\n\u001b[1;32m----> 7\u001b[0m \u001b[38;5;28mprint\u001b[39m ( text\u001b[38;5;241m.\u001b[39mcenter(\u001b[38;5;241m50\u001b[39m, \u001b[38;5;124m'\u001b[39m\u001b[38;5;124m%\u001b[39m\u001b[38;5;124m!\u001b[39m\u001b[38;5;124m'\u001b[39m) )   \u001b[38;5;66;03m# TypeError - the padding needs to be *exactly* one character long\u001b[39;00m\n\u001b[0;32m      8\u001b[0m \u001b[38;5;28mprint\u001b[39m()\n",
      "\u001b[1;31mTypeError\u001b[0m: The fill character must be exactly one character long"
     ]
    }
   ],
   "source": [
    "# Let's try something fancy (that results in an error -- a TypeError!).\n",
    "\n",
    "text = \"Experimenting with strings.\"\n",
    "\n",
    "# Printing the center aligned string padded with \"%!%!%!%!%!\"\n",
    "print (\"Center aligned string, padded with : \")\n",
    "print ( text.center(50, '%!') )   # TypeError - the padding needs to be *exactly* one character long\n",
    "print()"
   ]
  },
  {
   "cell_type": "markdown",
   "metadata": {},
   "source": [
    "## The ```zfill()``` Method\n",
    "\n",
    "The ```zfill()``` method adds zeros (0) at the beginning of the string, until it reaches the specified length.\n",
    "\n",
    "If the value of the len parameter is *less* than the length of the string, *no filling is done*."
   ]
  },
  {
   "cell_type": "code",
   "execution_count": 236,
   "metadata": {
    "scrolled": true
   },
   "outputs": [
    {
     "name": "stdout",
     "output_type": "stream",
     "text": [
      "37\n",
      "\n",
      "00000000000000000000000Singapore is a great city to live in!\n",
      "0000000000000Singapore is a great city to live in!\n",
      "000Singapore is a great city to live in!\n",
      "Singapore is a great city to live in!\n",
      "Singapore is a great city to live in!\n",
      "Singapore is a great city to live in!\n",
      "Singapore is a great city to live in!\n"
     ]
    }
   ],
   "source": [
    "text = \"Singapore is a great city to live in!\"\n",
    "\n",
    "print ( len (text) )           # text has 37 characters\n",
    "print ()\n",
    "print ( text.zfill(60) )       # 60 > 37\n",
    "print ( text.zfill(50) )       # 50 > 37\n",
    "print ( text.zfill(40) )       # 40 > 37\n",
    "print ( text.zfill(30) )       # 30 < 37\n",
    "print ( text.zfill(20) )       # 20 < 37\n",
    "print ( text.zfill(10) )       # 10 < 37\n",
    "print ( text.zfill(5) )        #  5 < 37"
   ]
  },
  {
   "cell_type": "markdown",
   "metadata": {},
   "source": [
    "### The ```translate()``` Method"
   ]
  },
  {
   "cell_type": "code",
   "execution_count": 237,
   "metadata": {},
   "outputs": [
    {
     "data": {
      "text/plain": [
       "'uryyo, wxwspv!'"
      ]
     },
     "execution_count": 237,
     "metadata": {},
     "output_type": "execute_result"
    }
   ],
   "source": [
    "original_string = \"hello, wkwsci!\"\n",
    "\n",
    "translate_table = original_string.maketrans(\"abcdefghijklm\", \"nopqrstuvwxyz\")\n",
    "# .maketrans attribute\n",
    "\n",
    "original_string.translate(translate_table)"
   ]
  },
  {
   "cell_type": "markdown",
   "metadata": {},
   "source": [
    "The use of the ```translate()``` method to delete characters is demonstrated below."
   ]
  },
  {
   "cell_type": "code",
   "execution_count": 238,
   "metadata": {},
   "outputs": [
    {
     "data": {
      "text/plain": [
       "'heo, ksci!'"
      ]
     },
     "execution_count": 238,
     "metadata": {},
     "output_type": "execute_result"
    }
   ],
   "source": [
    "original_string = \"hello, wkwsci!\"\n",
    "\n",
    "translate_table = original_string.maketrans({'l':None,'w':None})\n",
    "\n",
    "original_string.translate(translate_table)"
   ]
  },
  {
   "cell_type": "markdown",
   "metadata": {},
   "source": [
    "## The ```input()``` Function\n",
    "\n",
    "The input() method reads a line from input, converts into a *string* and returns it.\n",
    "\n",
    "A prompt can be added.\n",
    "\n",
    "Question: Why are we discussing the ```input()``` function in a session that discusses strings?"
   ]
  },
  {
   "cell_type": "code",
   "execution_count": null,
   "metadata": {
    "scrolled": true
   },
   "outputs": [],
   "source": [
    "what_the_user_keyed_in = input()                             # no prompt -- very user unfriendly!\n",
    "\n",
    "print (\"You keyed in:\", what_the_user_keyed_in)\n",
    "\n",
    "print (type(what_the_user_keyed_in))"
   ]
  },
  {
   "cell_type": "code",
   "execution_count": null,
   "metadata": {},
   "outputs": [],
   "source": [
    "country = input(\"Key in the name of a country: \".strip)            # the prompt enables the user to know what to key in\n",
    "\n",
    "print (\"You keyed in:\", country)"
   ]
  },
  {
   "cell_type": "code",
   "execution_count": null,
   "metadata": {},
   "outputs": [],
   "source": [
    "name = input(\"What is your name? \")\n",
    "\n",
    "print (\"Good morning, \", name, \".\", sep = \"\")"
   ]
  },
  {
   "cell_type": "code",
   "execution_count": null,
   "metadata": {},
   "outputs": [],
   "source": [
    "name = input(\"What is your name? \")\n",
    "\n",
    "print (\"Good morning, \" + name + \".\")"
   ]
  },
  {
   "cell_type": "code",
   "execution_count": null,
   "metadata": {
    "scrolled": true
   },
   "outputs": [],
   "source": [
    "number = input(\"Key in a number: \")   # the user knows that he is supposed to key in a number\n",
    "\n",
    "# run this program, and key in 123 to see what happens\n",
    "# run the program again, and now key in 123.123 to see what happens -- explain why\n",
    "\n",
    "print (\"number is of type:\", type(number))   # the input() function converts it to a string\n",
    "\n",
    "print ()\n",
    "\n",
    "print (\"You keyed in this number:\", number)\n",
    "\n",
    "number = int(number)\n",
    "\n",
    "print (\"Squaring that number gives:\", number*number)   # type casting is needed before calculations"
   ]
  },
  {
   "cell_type": "code",
   "execution_count": null,
   "metadata": {},
   "outputs": [],
   "source": [
    "# Explaining what happened above:\n",
    "\n",
    "print (int (123.456))   # no problems, the value is 123\n",
    "print (int (\"123.456\"))   # this results in a ValueError\n",
    "\n",
    "# Remember -- the input() function reads in the user input as an str (string) type"
   ]
  },
  {
   "cell_type": "code",
   "execution_count": null,
   "metadata": {},
   "outputs": [],
   "source": [
    "# This is an alternative to the above -- the type casting is done twice\n",
    "\n",
    "number = input(\"Key in a number: \")   # the user knows that he is supposed to key in a number\n",
    "\n",
    "print (\"number is of type:\", type(number))   # the input() function converts it to a string\n",
    "\n",
    "print ()\n",
    "\n",
    "print (\"You keyed in this number:\", number)\n",
    "\n",
    "print (\"Squaring that number gives:\", int(number)*int(number))   # type casting done twice here"
   ]
  },
  {
   "cell_type": "code",
   "execution_count": null,
   "metadata": {},
   "outputs": [],
   "source": [
    "x, y = \"3       4\".split()\n",
    "\n",
    "print ( type(x) )                                            # x is a string (str)\n",
    "print ( type(y) )                                            # y is a string (str)\n",
    "print (\"The sum is\", float(x)+float(y))                      # x and y need to be typecast before performing calculations"
   ]
  },
  {
   "cell_type": "markdown",
   "metadata": {},
   "source": [
    "## Multiple Assignment\n",
    "\n",
    "You can assign multiple values to multiple variables by separating variables and values with commas."
   ]
  },
  {
   "cell_type": "code",
   "execution_count": null,
   "metadata": {},
   "outputs": [],
   "source": [
    "a = 100   # a is assigned the value of 100\n",
    "b = 200   # b is assigned the value of 200\n",
    "\n",
    "print (a, b, sep = \" -- \")"
   ]
  },
  {
   "cell_type": "code",
   "execution_count": null,
   "metadata": {},
   "outputs": [],
   "source": [
    "a, b = 100, 200   # same as above -- this is called multiple assignment\n",
    "\n",
    "print (a, b, sep = \" -- \")"
   ]
  },
  {
   "cell_type": "markdown",
   "metadata": {},
   "source": [
    "You can assign more than two variables at one go."
   ]
  },
  {
   "cell_type": "code",
   "execution_count": null,
   "metadata": {
    "scrolled": true
   },
   "outputs": [],
   "source": [
    "a, b, c = 100, 200, 300   # assigning values to three variables with a single statement\n",
    "\n",
    "print (a, b, c, sep = \" !! \")"
   ]
  },
  {
   "cell_type": "code",
   "execution_count": null,
   "metadata": {},
   "outputs": [],
   "source": [
    "a, b, c, d, e = \"Singapore\", \"Malaysia\", \"Thailand\", \"Indonesia\", \"Philippines\"\n",
    "\n",
    "print (a, b, c, e, d, sep = \" ** \")"
   ]
  },
  {
   "cell_type": "code",
   "execution_count": null,
   "metadata": {},
   "outputs": [],
   "source": [
    "a, b, c, d = 100, 200, 300   # ValueError -- number of variables and values must match!\n",
    "\n",
    "print (a, b, c, d, sep = \" ** \")"
   ]
  },
  {
   "cell_type": "markdown",
   "metadata": {},
   "source": [
    "Multiple assignments works with different types of data."
   ]
  },
  {
   "cell_type": "code",
   "execution_count": null,
   "metadata": {},
   "outputs": [],
   "source": [
    "a, b, c = 1, 3+4j, \"First Steps Towards Programming\"\n",
    "\n",
    "print (a, type(a), sep = ', ')\n",
    "print (b, type(b), sep = ', ')\n",
    "print (c, type(c), sep = ', ')"
   ]
  },
  {
   "cell_type": "code",
   "execution_count": null,
   "metadata": {},
   "outputs": [],
   "source": [
    "a, b, c, d = 1, [5.5, 6.6, 7.7], {'topic' : 'mathematics', 'difficulty' : 'easy'}, (\"January\", \"February\", \"March\")\n",
    "\n",
    "print (a, \":\", type(a))\n",
    "print (b, \":\", type(b))\n",
    "print (c, \":\", type(c))\n",
    "print (d, \":\", type(d))"
   ]
  },
  {
   "cell_type": "markdown",
   "metadata": {},
   "source": [
    "## Using the ```help()``` Function\n",
    "\n",
    "We have already looked at two methods of getting help in Python:\n",
    "\n",
    "* using the ```dir()``` built-in function  \n",
    "* using the question mark (\"```?```\")\n",
    "\n",
    "You can also use the Python help() function to get the documentation of specified module, class, function, variables etc.  The syntax is:\n",
    "\n",
    "```help([object])```"
   ]
  },
  {
   "cell_type": "code",
   "execution_count": null,
   "metadata": {
    "scrolled": false
   },
   "outputs": [],
   "source": [
    "help ( print )              # obtain help on the print() function"
   ]
  },
  {
   "cell_type": "code",
   "execution_count": null,
   "metadata": {
    "scrolled": true
   },
   "outputs": [],
   "source": [
    "help ( \"print\" )            # same as above!"
   ]
  },
  {
   "cell_type": "code",
   "execution_count": null,
   "metadata": {},
   "outputs": [],
   "source": [
    "import math\n",
    "\n",
    "help ( math.sqrt )   # help on the math.sqrt() function"
   ]
  },
  {
   "cell_type": "code",
   "execution_count": null,
   "metadata": {
    "scrolled": false
   },
   "outputs": [],
   "source": [
    "import math\n",
    "\n",
    "help ( \"math.sqrt\" )   # same as above"
   ]
  },
  {
   "cell_type": "code",
   "execution_count": null,
   "metadata": {},
   "outputs": [],
   "source": [
    "help ( statistics.mean )   # you get a NameError -- why?"
   ]
  },
  {
   "cell_type": "code",
   "execution_count": null,
   "metadata": {},
   "outputs": [],
   "source": [
    "help ( 3 )   # help on a integer (int) object"
   ]
  },
  {
   "cell_type": "code",
   "execution_count": null,
   "metadata": {},
   "outputs": [],
   "source": [
    "help ( 4.5 )   # help on a floating-point (float) object"
   ]
  },
  {
   "cell_type": "code",
   "execution_count": null,
   "metadata": {
    "scrolled": false
   },
   "outputs": [],
   "source": [
    "help ( 3+4j )   # help on a complex object"
   ]
  },
  {
   "cell_type": "code",
   "execution_count": null,
   "metadata": {},
   "outputs": [],
   "source": [
    "help ( \"Singapore\" )\n",
    "\n",
    "# from the previous three cells, you expect help on a string object\n",
    "# you don't get a friendly error message\n",
    "# the message instructs you to use help(str) if you need help on strings"
   ]
  },
  {
   "cell_type": "code",
   "execution_count": null,
   "metadata": {},
   "outputs": [],
   "source": [
    "help ( str )"
   ]
  },
  {
   "cell_type": "markdown",
   "metadata": {},
   "source": [
    "## Summary: Three Ways to Get Help\n",
    "\n",
    "1. use ```?```\n",
    "2. use the ```dir()``` function\n",
    "3. use the ```help()``` function"
   ]
  }
 ],
 "metadata": {
  "kernelspec": {
   "display_name": "Python 3 (ipykernel)",
   "language": "python",
   "name": "python3"
  },
  "language_info": {
   "codemirror_mode": {
    "name": "ipython",
    "version": 3
   },
   "file_extension": ".py",
   "mimetype": "text/x-python",
   "name": "python",
   "nbconvert_exporter": "python",
   "pygments_lexer": "ipython3",
   "version": "3.11.4"
  }
 },
 "nbformat": 4,
 "nbformat_minor": 2
}
